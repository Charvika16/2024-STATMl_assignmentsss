{
  "nbformat": 4,
  "nbformat_minor": 0,
  "metadata": {
    "colab": {
      "provenance": []
    },
    "kernelspec": {
      "name": "python3",
      "display_name": "Python 3"
    },
    "language_info": {
      "name": "python"
    }
  },
  "cells": [
    {
      "cell_type": "markdown",
      "source": [
        "**QUESTION 1**\n",
        "Given the following dataset: X={2.3,2.5,3.6,2.8,3.1,2.9,3.2,2.7,2.8,3.0}. Compute the density of the data using a histogram with 5 bins."
      ],
      "metadata": {
        "id": "v7ID3DSZPTNt"
      }
    },
    {
      "cell_type": "code",
      "source": [
        "import matplotlib.pyplot as plt"
      ],
      "metadata": {
        "id": "lpWEaAKjPc4P"
      },
      "execution_count": null,
      "outputs": []
    },
    {
      "cell_type": "code",
      "source": [
        "import numpy as np\n",
        "X= np.array([2.3,2.5,3.6,2.8,3.1,2.9,3.2,2.7,2.8,3.0])\n",
        "bins=5"
      ],
      "metadata": {
        "id": "5FjiNovuQZiT"
      },
      "execution_count": null,
      "outputs": []
    },
    {
      "cell_type": "code",
      "source": [
        "plt.hist(X,bins)\n",
        "plt.show()"
      ],
      "metadata": {
        "colab": {
          "base_uri": "https://localhost:8080/",
          "height": 430
        },
        "id": "BffiTFW8Q01d",
        "outputId": "060156ce-8f5b-40ae-b2e9-78fc92d347ed"
      },
      "execution_count": null,
      "outputs": [
        {
          "output_type": "display_data",
          "data": {
            "text/plain": [
              "<Figure size 640x480 with 1 Axes>"
            ],
            "image/png": "[encoded data removed]"
          },
          "metadata": {}
        }
      ]
    },
    {
      "cell_type": "markdown",
      "source": [
        "**QUESTION 2**"
      ],
      "metadata": {
        "id": "fwUKTp58R7j1"
      }
    },
    {
      "cell_type": "code",
      "source": [
        "import numpy as np\n",
        "dep_var=np.array([4,5,8,2,4,2,5])\n",
        "indep_var=np.array([5,6,3,8,3,7,8])"
      ],
      "metadata": {
        "id": "zILvOQg6R_jF"
      },
      "execution_count": null,
      "outputs": []
    },
    {
      "cell_type": "markdown",
      "source": [
        "**MEAN**"
      ],
      "metadata": {
        "id": "bp5TEFSOZ6qY"
      }
    },
    {
      "cell_type": "code",
      "source": [
        "print (\"Mean of dep_var:\",np.mean(dep_var))\n",
        "print (\"Mean of indep_var:\",np.mean(indep_var))"
      ],
      "metadata": {
        "colab": {
          "base_uri": "https://localhost:8080/"
        },
        "id": "19SogSDCSv2H",
        "outputId": "32f726bf-1eb2-4aa9-b7e9-a117992cfd09"
      },
      "execution_count": null,
      "outputs": [
        {
          "output_type": "stream",
          "name": "stdout",
          "text": [
            "Mean of dep_var: 4.285714285714286\n",
            "Mean of indep_var: 5.714285714285714\n"
          ]
        }
      ]
    },
    {
      "cell_type": "markdown",
      "source": [
        "**MEDIAN**"
      ],
      "metadata": {
        "id": "CwaSN3kGaAct"
      }
    },
    {
      "cell_type": "code",
      "source": [
        "print (\"Median of dep_var:\",np.median(dep_var))\n",
        "print (\"Median of indep_var:\",np.median(indep_var))\n"
      ],
      "metadata": {
        "colab": {
          "base_uri": "https://localhost:8080/"
        },
        "id": "p0vC1XQpTfr_",
        "outputId": "0d563014-ba89-475e-b8a8-33d435c4146c"
      },
      "execution_count": null,
      "outputs": [
        {
          "output_type": "stream",
          "name": "stdout",
          "text": [
            "Median of dep_var: 4.0\n",
            "Median of indep_var: 6.0\n"
          ]
        }
      ]
    },
    {
      "cell_type": "markdown",
      "source": [
        "**VARIENCE**"
      ],
      "metadata": {
        "id": "1UwteUpBagTj"
      }
    },
    {
      "cell_type": "code",
      "source": [
        "print (\"varience of dep_var:\",np.var(dep_var))\n",
        "print (\"varience of indep_var:\",np.var(indep_var))"
      ],
      "metadata": {
        "colab": {
          "base_uri": "https://localhost:8080/"
        },
        "id": "qkKQiVzoTtST",
        "outputId": "19eb693e-0732-42fb-a2c9-dc40b8ba48ce"
      },
      "execution_count": null,
      "outputs": [
        {
          "output_type": "stream",
          "name": "stdout",
          "text": [
            "varience of dep_var: 3.6326530612244894\n",
            "varience of indep_var: 3.918367346938776\n"
          ]
        }
      ]
    },
    {
      "cell_type": "markdown",
      "source": [
        "**MODE**"
      ],
      "metadata": {
        "id": "jj9ggnrdbyZg"
      }
    },
    {
      "cell_type": "code",
      "source": [
        "def mode(arr):\n",
        "  c=np.bincount(arr)\n",
        "  mode=np.argmax(c)\n",
        "  return mode"
      ],
      "metadata": {
        "id": "-cPL9KbBUT9o"
      },
      "execution_count": null,
      "outputs": []
    },
    {
      "cell_type": "code",
      "source": [
        "mode_dep_var=mode(dep_var)\n",
        "mode_indep_var=mode(indep_var)\n",
        "print(\"Mode of dep_var:\",mode_dep_var)\n",
        "print(\"Mode of ind_var:\",mode_indep_var)"
      ],
      "metadata": {
        "colab": {
          "base_uri": "https://localhost:8080/"
        },
        "id": "M_b-nYpyU-71",
        "outputId": "ca2f9644-426d-4c2f-a0aa-7b77262e536a"
      },
      "execution_count": null,
      "outputs": [
        {
          "output_type": "stream",
          "name": "stdout",
          "text": [
            "Mode of dep_var: 2\n",
            "Mode of ind_var: 3\n"
          ]
        }
      ]
    },
    {
      "cell_type": "markdown",
      "source": [
        "**STANDARD DEVIATION**"
      ],
      "metadata": {
        "id": "w7S9Gz-RzVc5"
      }
    },
    {
      "cell_type": "code",
      "source": [
        "print(\"standard deviation of dep_var:\",np.std(dep_var))\n",
        "print(\"standard deviation of indep_var:\",np.std(indep_var))"
      ],
      "metadata": {
        "colab": {
          "base_uri": "https://localhost:8080/"
        },
        "id": "eJSWl_PAWx_l",
        "outputId": "982e9cb7-105a-40d2-f8d5-9efc88fd7aeb"
      },
      "execution_count": null,
      "outputs": [
        {
          "output_type": "stream",
          "name": "stdout",
          "text": [
            "standard deviation of dep_var: 1.9059520091609048\n",
            "standard deviation of indep_var: 1.979486637221574\n"
          ]
        }
      ]
    },
    {
      "cell_type": "markdown",
      "source": [
        "**RANGE**"
      ],
      "metadata": {
        "id": "DcHBGAzEcPcA"
      }
    },
    {
      "cell_type": "code",
      "source": [
        "print(\"Range of dep_var:\",np.max(dep_var)-np.min(dep_var))\n",
        "print(\"Range of indep_var:\",np.max(indep_var)-np.min(indep_var))"
      ],
      "metadata": {
        "colab": {
          "base_uri": "https://localhost:8080/"
        },
        "id": "bFv55Yp3XYDD",
        "outputId": "f406f3dc-bc15-4494-8e0c-0dc4b06a5239"
      },
      "execution_count": null,
      "outputs": [
        {
          "output_type": "stream",
          "name": "stdout",
          "text": [
            "Range of dep_var: 6\n",
            "Range of indep_var: 5\n"
          ]
        }
      ]
    },
    {
      "cell_type": "markdown",
      "source": [
        "**INTERQUARTILE RANGE**"
      ],
      "metadata": {
        "id": "8h_Ih1locajW"
      }
    },
    {
      "cell_type": "code",
      "source": [
        "def iqr(data):\n",
        "  Q1=np.percentile(data,25)\n",
        "  Q3=np.percentile(data,75)\n",
        "  return Q3 -Q1"
      ],
      "metadata": {
        "id": "PDiHyHcQciMr"
      },
      "execution_count": null,
      "outputs": []
    },
    {
      "cell_type": "code",
      "source": [
        "print(\"iqr_dep_var:\", iqr(dep_var))\n",
        "print(\"iqr_indep_var\",iqr(indep_var))\n"
      ],
      "metadata": {
        "colab": {
          "base_uri": "https://localhost:8080/"
        },
        "id": "I1VLAH6jxug0",
        "outputId": "e765f3e8-b915-4e62-8bf7-42a9ff4c294d"
      },
      "execution_count": null,
      "outputs": [
        {
          "output_type": "stream",
          "name": "stdout",
          "text": [
            "iqr_dep_var: 2.0\n",
            "iqr_indep_var 3.5\n"
          ]
        }
      ]
    },
    {
      "cell_type": "markdown",
      "source": [
        "**SKEWNESS**"
      ],
      "metadata": {
        "id": "cMvoiIu6zt9V"
      }
    },
    {
      "cell_type": "code",
      "source": [
        "def skewness(data):\n",
        "  a= len(data)\n",
        "  mean=np.mean(data)\n",
        "  standard_deviation=np.std(data,ddof=0)\n",
        "  data1=(a/((a-1)*(a-2)))\n",
        "  data2=np.sum(((data-mean)/standard_deviation)**3)\n",
        "  skewness = data1*data2\n",
        "  return skewness"
      ],
      "metadata": {
        "id": "lFm-08BTz0CE"
      },
      "execution_count": null,
      "outputs": []
    },
    {
      "cell_type": "code",
      "source": [
        "print(\"skewness of dep_var:\",skewness(dep_var))\n",
        "print(\"skewness of indep_var:\",skewness(indep_var))"
      ],
      "metadata": {
        "colab": {
          "base_uri": "https://localhost:8080/"
        },
        "id": "li21IYVA2jRT",
        "outputId": "8dc6660e-b6a5-4de5-d6c4-dff0e763b5fe"
      },
      "execution_count": null,
      "outputs": [
        {
          "output_type": "stream",
          "name": "stdout",
          "text": [
            "skewness of dep_var: 0.9449994474407377\n",
            "skewness of indep_var: -0.4309829548520998\n"
          ]
        }
      ]
    },
    {
      "cell_type": "markdown",
      "source": [
        "**KURTOSIS OF X AND Y**"
      ],
      "metadata": {
        "id": "ToK6pR6A6pe8"
      }
    },
    {
      "cell_type": "code",
      "source": [
        "def kurtosis(arr):\n",
        "  A= len(arr)\n",
        "  mean = np.mean(arr)\n",
        "  average = np.sum((arr-mean)**4)/A\n",
        "  square=(np.sum((arr-mean)**2)/A)**2\n",
        "  kurtosis=(average/square)-3\n",
        "  return kurtosis"
      ],
      "metadata": {
        "id": "i17U6L286x76"
      },
      "execution_count": null,
      "outputs": []
    },
    {
      "cell_type": "code",
      "source": [
        "print(\"kurtosis of dep_var:\",{kurtosis(dep_var)})\n",
        "print(\"kurtosis of indep_var:\",{kurtosis(indep_var)})"
      ],
      "metadata": {
        "colab": {
          "base_uri": "https://localhost:8080/"
        },
        "id": "laTgyvy78ogz",
        "outputId": "3e1598df-db6e-4a40-8e16-72bbfbb6cf50"
      },
      "execution_count": null,
      "outputs": [
        {
          "output_type": "stream",
          "name": "stdout",
          "text": [
            "kurtosis of dep_var: {-0.3428228758995071}\n",
            "kurtosis of indep_var: {-1.4541015625000004}\n"
          ]
        }
      ]
    },
    {
      "cell_type": "markdown",
      "source": [
        "**Question-3**"
      ],
      "metadata": {
        "id": "Ty9YgrYv0CPX"
      }
    },
    {
      "cell_type": "code",
      "source": [
        "import pandas as pd\n",
        "import numpy as np\n"
      ],
      "metadata": {
        "id": "3CHl2ea30HqG"
      },
      "execution_count": null,
      "outputs": []
    },
    {
      "cell_type": "code",
      "source": [
        "A=pd.read_csv('/content/sample_data/california_housing_test.csv')"
      ],
      "metadata": {
        "id": "rnvLIPXwDeq_"
      },
      "execution_count": null,
      "outputs": []
    },
    {
      "cell_type": "code",
      "source": [
        "print(A)"
      ],
      "metadata": {
        "colab": {
          "base_uri": "https://localhost:8080/"
        },
        "id": "cQAod9MDEJjY",
        "outputId": "01d42c1b-0bce-4200-d75e-d153c3ab3cd9"
      },
      "execution_count": null,
      "outputs": [
        {
          "output_type": "stream",
          "name": "stdout",
          "text": [
            "      longitude  latitude  housing_median_age  total_rooms  total_bedrooms  \\\n",
            "0       -122.05     37.37                27.0       3885.0           661.0   \n",
            "1       -118.30     34.26                43.0       1510.0           310.0   \n",
            "2       -117.81     33.78                27.0       3589.0           507.0   \n",
            "3       -118.36     33.82                28.0         67.0            15.0   \n",
            "4       -119.67     36.33                19.0       1241.0           244.0   \n",
            "...         ...       ...                 ...          ...             ...   \n",
            "2995    -119.86     34.42                23.0       1450.0           642.0   \n",
            "2996    -118.14     34.06                27.0       5257.0          1082.0   \n",
            "2997    -119.70     36.30                10.0        956.0           201.0   \n",
            "2998    -117.12     34.10                40.0         96.0            14.0   \n",
            "2999    -119.63     34.42                42.0       1765.0           263.0   \n",
            "\n",
            "      population  households  median_income  median_house_value  \n",
            "0         1537.0       606.0         6.6085            344700.0  \n",
            "1          809.0       277.0         3.5990            176500.0  \n",
            "2         1484.0       495.0         5.7934            270500.0  \n",
            "3           49.0        11.0         6.1359            330000.0  \n",
            "4          850.0       237.0         2.9375             81700.0  \n",
            "...          ...         ...            ...                 ...  \n",
            "2995      1258.0       607.0         1.1790            225000.0  \n",
            "2996      3496.0      1036.0         3.3906            237200.0  \n",
            "2997       693.0       220.0         2.2895             62000.0  \n",
            "2998        46.0        14.0         3.2708            162500.0  \n",
            "2999       753.0       260.0         8.5608            500001.0  \n",
            "\n",
            "[3000 rows x 9 columns]\n"
          ]
        }
      ]
    },
    {
      "cell_type": "markdown",
      "source": [
        "**MEAN**"
      ],
      "metadata": {
        "id": "TGar3bZTEOWL"
      }
    },
    {
      "cell_type": "code",
      "source": [
        "print(\"Mean longitude:\",np.mean(A['longitude']))\n",
        "print(\"Mean latitude:\",np.mean(A['latitude']))\n",
        "print(\"Mean  housing_median:\",np.mean(A['housing_median_age']))\n",
        "print(\"Mean total_rooms:\",np.mean(A['total_rooms']))\n",
        "print(\"Mean  total_bedrooms:\",np.mean(A['total_bedrooms']))\n",
        "print(\"Mean population:\",np.mean(A['population']))\n",
        "print(\"Mean  households:\",np.mean(A['households']))\n",
        "print(\"Mean median_income:\",np.mean(A['median_income']))\n",
        "print(\"Mean median_house_value:\",np.mean(A['median_house_value']))\n"
      ],
      "metadata": {
        "colab": {
          "base_uri": "https://localhost:8080/"
        },
        "id": "h0FWbIFBEfsM",
        "outputId": "f9559461-4231-4f81-ae91-5c074b399fa7"
      },
      "execution_count": null,
      "outputs": [
        {
          "output_type": "stream",
          "name": "stdout",
          "text": [
            "Mean longitude: -119.58919999999999\n",
            "Mean latitude: 35.635389999999994\n",
            "Mean  housing_median: 28.845333333333333\n",
            "Mean total_rooms: 2599.578666666667\n",
            "Mean  total_bedrooms: 529.9506666666666\n",
            "Mean population: 1402.7986666666666\n",
            "Mean  households: 489.912\n",
            "Mean median_income: 3.8072717999999997\n",
            "Mean median_house_value: 205846.275\n"
          ]
        }
      ]
    },
    {
      "cell_type": "markdown",
      "source": [
        "**MEDIAN**\n"
      ],
      "metadata": {
        "id": "Gr7qYQQTHXsV"
      }
    },
    {
      "cell_type": "code",
      "source": [
        "print(\"Median Value of longitude:\",np.median(A['longitude']))\n",
        "print(\"Median Value of latitude:\",np.median(A['latitude']))\n",
        "print(\"Median Value of housing_median_age:\",np.median(A['housing_median_age']))\n",
        "print(\"Median Value of total_rooms:\",np.median(A['total_rooms']))\n",
        "print(\"Median Value of total_bedrooms:\",np.median(A['total_bedrooms']))\n",
        "print(\"Median Value of population:\",np.median(A['population']))\n",
        "print(\"Median Value of households:\",np.median(A['households']))\n",
        "print(\"Median Value of median_income:\",np.median(A['median_income']))\n",
        "print(\"Median Value of median_house_value:\",np.median(A['median_house_value']))\n"
      ],
      "metadata": {
        "colab": {
          "base_uri": "https://localhost:8080/"
        },
        "id": "vJiopHNMHbZR",
        "outputId": "b83e763d-a682-4fe7-c23c-d751d8ee05fa"
      },
      "execution_count": null,
      "outputs": [
        {
          "output_type": "stream",
          "name": "stdout",
          "text": [
            "Median Value of longitude: -118.485\n",
            "Median Value of latitude: 34.27\n",
            "Median Value of housing_median_age: 29.0\n",
            "Median Value of total_rooms: 2106.0\n",
            "Median Value of total_bedrooms: 437.0\n",
            "Median Value of population: 1155.0\n",
            "Median Value of households: 409.5\n",
            "Median Value of median_income: 3.4871499999999997\n",
            "Median Value of median_house_value: 177650.0\n"
          ]
        }
      ]
    },
    {
      "cell_type": "markdown",
      "source": [
        "**MODE**"
      ],
      "metadata": {
        "id": "cGXOze0zHyKO"
      }
    },
    {
      "cell_type": "code",
      "source": [
        "from abc import ABCMeta\n",
        "print(\"Mode Value of longitude:\",A['longitude'].mode())\n",
        "print(\"\")\n",
        "print(\"Mode Value of latitude:\",A['latitude'].mode())\n",
        "print(\"\")\n",
        "print(\"Mode Value of housing_median_age:\",A['housing_median_age'].mode())\n",
        "print(\"\")\n",
        "print(\"Mode Value of total_rooms:\",A['total_rooms'].mode())\n",
        "print(\"\")\n",
        "print(\"Mode Value of total_bedrooms:\",A['total_bedrooms'].mode())\n",
        "print(\"\")\n",
        "print(\"Mode Value of population:\",A['population'].mode())\n",
        "print(\"\")\n",
        "print(\"Mode Value of households:\",A['households'].mode())\n",
        "print(\"\")\n",
        "print(\"Mode Value of median_income:\",A['median_income'].mode())\n",
        "print(\"\")\n",
        "print(\"Mode Value of median_house_value:\",A['median_house_value'].mode())\n"
      ],
      "metadata": {
        "colab": {
          "base_uri": "https://localhost:8080/"
        },
        "id": "mbtqTEnAISOt",
        "outputId": "c88d6fcc-996d-4cc0-9ceb-51a4ef7cfe93"
      },
      "execution_count": null,
      "outputs": [
        {
          "output_type": "stream",
          "name": "stdout",
          "text": [
            "Mode Value of longitude: 0   -118.26\n",
            "1   -118.21\n",
            "Name: longitude, dtype: float64\n",
            "\n",
            "Mode Value of latitude: 0    34.02\n",
            "Name: latitude, dtype: float64\n",
            "\n",
            "Mode Value of housing_median_age: 0    52.0\n",
            "Name: housing_median_age, dtype: float64\n",
            "\n",
            "Mode Value of total_rooms: 0     907.0\n",
            "1    1778.0\n",
            "2    1787.0\n",
            "3    1966.0\n",
            "Name: total_rooms, dtype: float64\n",
            "\n",
            "Mode Value of total_bedrooms: 0    314.0\n",
            "Name: total_bedrooms, dtype: float64\n",
            "\n",
            "Mode Value of population: 0    870.0\n",
            "Name: population, dtype: float64\n",
            "\n",
            "Mode Value of households: 0    273.0\n",
            "1    375.0\n",
            "2    614.0\n",
            "Name: households, dtype: float64\n",
            "\n",
            "Mode Value of median_income: 0    15.0001\n",
            "Name: median_income, dtype: float64\n",
            "\n",
            "Mode Value of median_house_value: 0    500001.0\n",
            "Name: median_house_value, dtype: float64\n"
          ]
        }
      ]
    },
    {
      "cell_type": "markdown",
      "source": [
        "**VARIENCE**"
      ],
      "metadata": {
        "id": "c6rhahT1JPEq"
      }
    },
    {
      "cell_type": "code",
      "source": [
        "print(\"Variance Value of longitude:\",np.var(A['longitude']))\n",
        "print(\"\")\n",
        "print(\"Variance Value of latitude:\",np.var(A['latitude']))\n",
        "print(\"\")\n",
        "print(\"Variance Value of housing_median_age:\",np.var(A['housing_median_age']))\n",
        "print(\"\")\n",
        "print(\"Variance Value of total_rooms:\",np.var(A['total_rooms']))\n",
        "print(\"\")\n",
        "print(\"Variance Value of total_bedrooms:\",np.var(A['total_bedrooms']))\n",
        "print(\"\")\n",
        "print(\"Variance Value of population:\",np.var(A['population']))\n",
        "print(\"\")\n",
        "print(\"Variance Value of households:\",np.var(A['households']))\n",
        "print(\"\")\n",
        "print(\"Variance Value of median_income:\",np.var(A['median_income']))\n",
        "print(\"\")\n",
        "print(\"Variance Value of median_house_value:\",np.var(A['median_house_value']))\n"
      ],
      "metadata": {
        "colab": {
          "base_uri": "https://localhost:8080/"
        },
        "id": "6Hbih9tOJVQs",
        "outputId": "84669924-4422-49df-f4ef-e7429789e816"
      },
      "execution_count": null,
      "outputs": [
        {
          "output_type": "stream",
          "name": "stdout",
          "text": [
            "Variance Value of longitude: 3.9784442266666673\n",
            "\n",
            "Variance Value of latitude: 4.5339804479\n",
            "\n",
            "Variance Value of housing_median_age: 157.58541155555554\n",
            "\n",
            "Variance Value of total_rooms: 4645033.750478223\n",
            "\n",
            "Variance Value of total_bedrooms: 172710.9642328889\n",
            "\n",
            "Variance Value of population: 1061664.8941315555\n",
            "\n",
            "Variance Value of households: 133489.24558933332\n",
            "\n",
            "Variance Value of median_income: 3.4380673509780935\n",
            "\n",
            "Variance Value of median_house_value: 12791798338.666039\n"
          ]
        }
      ]
    },
    {
      "cell_type": "markdown",
      "source": [
        "**STANDARD DEVIATION**"
      ],
      "metadata": {
        "id": "GdigoKI0JsyH"
      }
    },
    {
      "cell_type": "code",
      "source": [
        "print(\"Standard Deviation longitude:\",np.std(A['longitude']))\n",
        "print(\"\")\n",
        "print(\"Standard Deviation  latitude:\",np.std(A['latitude']))\n",
        "print(\"\")\n",
        "print(\"Standard Deviation  housing_median_age:\",np.std(A['housing_median_age']))\n",
        "print(\"\")\n",
        "print(\"Standard Deviation  total_rooms:\",np.std(A['total_rooms']))\n",
        "print(\"\")\n",
        "print(\"Standard Deviation  total_bedrooms:\",np.std(A['total_bedrooms']))\n",
        "print(\"\")\n",
        "print(\"Standard Deviation  population:\",np.std(A['population']))\n",
        "print(\"\")\n",
        "print(\"Standard Deviation households:\",np.std(A['households']))\n",
        "print(\"\")\n",
        "print(\"Standard Deviation  median_income:\",np.std(A['median_income']))\n",
        "print(\"\")\n",
        "print(\"Standard Deviation  median_house_value:\",np.std(A['median_house_value']))\n"
      ],
      "metadata": {
        "colab": {
          "base_uri": "https://localhost:8080/"
        },
        "id": "wxBPwcG_JwA2",
        "outputId": "71f3cb0a-7d2f-4802-a8e8-b2117c95dbed"
      },
      "execution_count": null,
      "outputs": [
        {
          "output_type": "stream",
          "name": "stdout",
          "text": [
            "Standard Deviation longitude: 1.9946037768606244\n",
            "\n",
            "Standard Deviation  latitude: 2.1293145488396026\n",
            "\n",
            "Standard Deviation  housing_median_age: 12.553302814620363\n",
            "\n",
            "Standard Deviation  total_rooms: 2155.2340361265233\n",
            "\n",
            "Standard Deviation  total_bedrooms: 415.58508663436044\n",
            "\n",
            "Standard Deviation  population: 1030.3712409280238\n",
            "\n",
            "Standard Deviation households: 365.3618009443972\n",
            "\n",
            "Standard Deviation  median_income: 1.854202618641796\n",
            "\n",
            "Standard Deviation  median_house_value: 113100.83261703266\n"
          ]
        }
      ]
    },
    {
      "cell_type": "markdown",
      "source": [
        "**RANGE**"
      ],
      "metadata": {
        "id": "u_Qy3SJ5KBla"
      }
    },
    {
      "cell_type": "code",
      "source": [
        "print(\"Range  longitude\")\n",
        "print(np.max(A['longitude'])-np.min(A['longitude']))\n",
        "print(\"\")\n",
        "print(\"Range latitude\")\n",
        "print(np.max(A['latitude'])-np.min(A['latitude']))\n",
        "print(\"\")\n",
        "print(\"Range  housing_median_age\")\n",
        "print(np.max(A['housing_median_age'])-np.min(A['housing_median_age']))\n",
        "print(\"\")\n",
        "print(\"Range  total_rooms\")\n",
        "print(np.max(A['total_rooms'])-np.min(A['total_rooms']))\n",
        "print(\"\")\n",
        "print(\"Range  total_bedrooms\")\n",
        "print(np.max(A['total_bedrooms'])-np.min(A['total_bedrooms']))\n",
        "print(\"\")\n",
        "print(\"Range  population\")\n",
        "print(np.max(A['population'])-np.min(A['population']))\n",
        "print(\"\")\n",
        "print(\"Range  households\")\n",
        "print(np.max(A['households'])-np.min(A['households']))\n",
        "print(\"\")\n",
        "print(\"Range  median_income\")\n",
        "print(np.max(A['median_income'])-np.min(A['median_income']))\n",
        "print(\"\")\n",
        "print(\"Range  median_house_value\")\n",
        "print(np.max(A['median_house_value'])-np.min(A['median_house_value']))"
      ],
      "metadata": {
        "colab": {
          "base_uri": "https://localhost:8080/"
        },
        "id": "0eNr4dShKnej",
        "outputId": "bf2981df-5aba-4358-defd-551014f5286e"
      },
      "execution_count": null,
      "outputs": [
        {
          "output_type": "stream",
          "name": "stdout",
          "text": [
            "Range  longitude\n",
            "9.690000000000012\n",
            "\n",
            "Range latitude\n",
            "9.36\n",
            "\n",
            "Range  housing_median_age\n",
            "51.0\n",
            "\n",
            "Range  total_rooms\n",
            "30444.0\n",
            "\n",
            "Range  total_bedrooms\n",
            "5417.0\n",
            "\n",
            "Range  population\n",
            "11930.0\n",
            "\n",
            "Range  households\n",
            "4928.0\n",
            "\n",
            "Range  median_income\n",
            "14.5002\n",
            "\n",
            "Range  median_house_value\n",
            "477501.0\n"
          ]
        }
      ]
    },
    {
      "cell_type": "markdown",
      "source": [
        "**INTERQUARTILE RANGE**"
      ],
      "metadata": {
        "id": "aPMRfJ5JLJP_"
      }
    },
    {
      "cell_type": "code",
      "source": [
        "def iqr(data):\n",
        "    Q1 = np.percentile(data, 25)\n",
        "    Q3 = np.percentile(data, 75)\n",
        "    return Q3 - Q1"
      ],
      "metadata": {
        "id": "iuPCVXd5LPZZ"
      },
      "execution_count": null,
      "outputs": []
    },
    {
      "cell_type": "code",
      "source": [
        "print(\"IQR longitude\")\n",
        "iqr_longitude = iqr(A['longitude'])\n",
        "print(iqr_longitude)\n",
        "print(\"\")\n",
        "print(\"IQR  latitude\")\n",
        "iqr_latitude = iqr(A['latitude'])\n",
        "print(iqr_latitude)\n",
        "print(\"\")\n",
        "print(\"IQR  housing_median_age\")\n",
        "iqr_housing_median_age = iqr(A['housing_median_age'])\n",
        "print(iqr_housing_median_age)\n",
        "print(\"\")\n",
        "print(\"IQR  total_rooms\")\n",
        "iqr_total_rooms = iqr(A['total_rooms'])\n",
        "print(iqr_total_rooms)\n",
        "print(\"\")\n",
        "print(\"IQR  total_bedrooms\")\n",
        "iqr_total_bedrooms = iqr(A['total_bedrooms'])\n",
        "print(iqr_total_bedrooms)\n",
        "print(\"\")\n",
        "print(\"IQR  population\")\n",
        "iqr_population =iqr(A['population'])\n",
        "print(iqr_population)\n",
        "print(\"\")\n",
        "print(\"IQR v households\")\n",
        "iqr_households = iqr(A['households'])\n",
        "print(iqr_households)\n",
        "print(\"\")\n",
        "print(\"IQR  median_income\")\n",
        "iqr_median_income = iqr(A['median_income'])\n",
        "print(iqr_median_income)\n",
        "print(\"\")\n",
        "print(\"IQR  median_house_value\")\n",
        "iqr_median_house_value = iqr(A['median_house_value'])\n",
        "print(iqr_median_house_value)"
      ],
      "metadata": {
        "colab": {
          "base_uri": "https://localhost:8080/"
        },
        "id": "x2Oa-IXgLW5G",
        "outputId": "b25a833e-610e-49c4-a1cf-0e2644c08afe"
      },
      "execution_count": null,
      "outputs": [
        {
          "output_type": "stream",
          "name": "stdout",
          "text": [
            "IQR value of longitude\n",
            "3.7900000000000063\n",
            "\n",
            "IQR value of latitude\n",
            "3.759999999999998\n",
            "\n",
            "IQR value of housing_median_age\n",
            "19.0\n",
            "\n",
            "IQR value of total_rooms\n",
            "1728.0\n",
            "\n",
            "IQR value of total_bedrooms\n",
            "345.0\n",
            "\n",
            "IQR value of population\n",
            "962.75\n",
            "\n",
            "IQR value of households\n",
            "324.25\n",
            "\n",
            "IQR value of median_income\n",
            "2.112475\n",
            "\n",
            "IQR value of median_house_value\n",
            "142775.0\n"
          ]
        }
      ]
    },
    {
      "cell_type": "markdown",
      "source": [
        "**SKEWNESS**"
      ],
      "metadata": {
        "id": "cLZBDgH5L0e9"
      }
    },
    {
      "cell_type": "code",
      "source": [
        "def skewness(data):\n",
        "    data = np.array(data)\n",
        "    data = data[~np.isnan(data)]\n",
        "    n = len(data)\n",
        "    if n < 3:\n",
        "        return np.nan\n",
        "    mean = np.mean(data)\n",
        "    std_dev = np.std(data, ddof=1)\n",
        "    if std_dev == 0:\n",
        "        return np.nan\n",
        "    data1 = n / ((n - 1) * (n - 2))\n",
        "    data2 = np.sum(((data - mean) / std_dev) ** 3)\n",
        "    skewness = data1 * data2\n",
        "\n",
        "    return skewness"
      ],
      "metadata": {
        "id": "Z1J6L8r8L5mJ"
      },
      "execution_count": null,
      "outputs": []
    },
    {
      "cell_type": "code",
      "source": [
        "print(\"Skewness longitude\")\n",
        "skewness_longitude = skewness(A['longitude'])\n",
        "print(skewness_longitude)\n",
        "print(\"\")\n",
        "print(\"Skewness  latitude\")\n",
        "skewness_latitude = skewness(A['latitude'])\n",
        "print(skewness_latitude)\n",
        "print(\"\")\n",
        "print(\"skewness  housing_median_age\")\n",
        "skewness_housing_median_age = skewness(A['housing_median_age'])\n",
        "print(skewness_housing_median_age)\n",
        "print(\"\")\n",
        "print(\"skewness  total_rooms\")\n",
        "skewness_total_rooms = skewness(A['total_rooms'])\n",
        "print(skewness_total_rooms)\n",
        "print(\"\")\n",
        "print(\"skewness  total_bedrooms\")\n",
        "skewness_total_bedrooms = skewness(A['total_bedrooms'])\n",
        "print(skewness_total_bedrooms)\n",
        "print(\"\")\n",
        "print(\"skewness  population\")\n",
        "skewness_population = skewness(A['population'])\n",
        "print(skewness_population)\n",
        "print(\"\")\n",
        "print(\"skewness households\")\n",
        "skewness_households =skewness(A['households'])\n",
        "print(skewness_households)\n",
        "print(\"\")\n",
        "print(\"skewness  median_income\")\n",
        "skewness_median_income = skewness(A['median_income'])\n",
        "print(skewness_median_income)\n",
        "print(\"\")\n",
        "print(\"skewness  median_house_value\")\n",
        "skewness_median_house_value = skewness(A['median_house_value'])\n",
        "print(skewness_median_house_value)"
      ],
      "metadata": {
        "colab": {
          "base_uri": "https://localhost:8080/"
        },
        "id": "1VKDVLfzMA0R",
        "outputId": "c690afb9-ff2a-4fbd-ff09-964aea609a91"
      },
      "execution_count": null,
      "outputs": [
        {
          "output_type": "stream",
          "name": "stdout",
          "text": [
            "Skewness value of longitude\n",
            "-0.29785763262779996\n",
            "\n",
            "Skewness value of latitude\n",
            "0.45981593679052085\n",
            "\n",
            "skewness value of housing_median_age\n",
            "0.0185131211599916\n",
            "\n",
            "skewness value of total_rooms\n",
            "4.167637358501556\n",
            "\n",
            "skewness value of total_bedrooms\n",
            "3.8633931890458686\n",
            "\n",
            "skewness value of population\n",
            "2.949670690828887\n",
            "\n",
            "skewness value of households\n",
            "3.559753411646291\n",
            "\n",
            "skewness value of median_income\n",
            "1.6985117348319874\n",
            "\n",
            "skewness value of median_house_value\n",
            "0.9895619132015641\n"
          ]
        }
      ]
    },
    {
      "cell_type": "markdown",
      "source": [
        "**KURTOSIS**"
      ],
      "metadata": {
        "id": "UgmiLSP6MYuF"
      }
    },
    {
      "cell_type": "code",
      "source": [
        "def kurtosis(arr):\n",
        "    N = len(arr)\n",
        "    mean = np.mean(arr)\n",
        "    ave = np.sum((arr -mean)**4) / N\n",
        "    squ = (np.sum((arr - mean)**2) /N) **2\n",
        "    kurtosis = (ave/ squ) - 3\n",
        "    return kurtosis"
      ],
      "metadata": {
        "id": "wmFChDkZMe5p"
      },
      "execution_count": null,
      "outputs": []
    },
    {
      "cell_type": "code",
      "source": [],
      "metadata": {
        "id": "qFn0_AwyMjZL"
      },
      "execution_count": null,
      "outputs": []
    },
    {
      "cell_type": "code",
      "source": [
        "print(\"Kurtosis  longitude\")\n",
        "longitude = kurtosis(A['longitude'])\n",
        "print(longitude)\n",
        "print(\"\")\n",
        "print(\"Kurtosis latitude\")\n",
        "latitude = kurtosis(A['latitude'])\n",
        "print(latitude)\n",
        "print(\"\")\n",
        "print(\"Kurtosis  housing_median_age\")\n",
        "housing_median_age = kurtosis(A['housing_median_age'])\n",
        "print(housing_median_age)\n",
        "print(\"\")\n",
        "print(\"Kurtosis value of total_rooms\")\n",
        "total_rooms = kurtosis(A['total_rooms'])\n",
        "print(total_rooms)\n",
        "print(\"\")\n",
        "print(\"Kurtosis  total_bedrooms\")\n",
        "total_bedrooms = kurtosis(A['total_bedrooms'])\n",
        "print(total_bedrooms)\n",
        "print(\"\")\n",
        "print(\"Kurtosis  population\")\n",
        "population = kurtosis(A['population'])\n",
        "print(population)\n",
        "print(\"\")\n",
        "print(\"Kurtosis  households\")\n",
        "households = kurtosis(A['households'])\n",
        "print(households)\n",
        "print(\"\")\n",
        "print(\"Kurtosis  median_income\")\n",
        "median_income = kurtosis(A['median_income'])\n",
        "print(median_income)\n",
        "print(\"\")\n",
        "print(\"Kurtosis  median_house_value\")\n",
        "median_house_value = kurtosis(A['median_house_value'])\n",
        "print(median_house_value)"
      ],
      "metadata": {
        "colab": {
          "base_uri": "https://localhost:8080/"
        },
        "id": "ywQluUOFRftP",
        "outputId": "57b396a6-07f8-468c-b257-a62acd6cc389"
      },
      "execution_count": null,
      "outputs": [
        {
          "output_type": "stream",
          "name": "stdout",
          "text": [
            "Kurtosis  longitude\n",
            "-1.3625007669256197\n",
            "\n",
            "Kurtosis latitude\n",
            "-1.1244987241902247\n",
            "\n",
            "Kurtosis  housing_median_age\n",
            "-0.8044440474433032\n",
            "\n",
            "Kurtosis value of total_rooms\n",
            "32.04446666907792\n",
            "\n",
            "Kurtosis  total_bedrooms\n",
            "28.48753189248459\n",
            "\n",
            "Kurtosis  population\n",
            "16.41387618265221\n",
            "\n",
            "Kurtosis  households\n",
            "26.18366680809118\n",
            "\n",
            "Kurtosis  median_income\n",
            "5.614812216724314\n",
            "\n",
            "Kurtosis  median_house_value\n",
            "0.3927409720063544\n"
          ]
        }
      ]
    }
  ]
}