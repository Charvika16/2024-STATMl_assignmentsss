{
  "nbformat": 4,
  "nbformat_minor": 0,
  "metadata": {
    "colab": {
      "provenance": [],
      "authorship_tag": "ABX9TyPzXhoybwxXpKg4xByMipjr",
      "include_colab_link": true
    },
    "kernelspec": {
      "name": "python3",
      "display_name": "Python 3"
    },
    "language_info": {
      "name": "python"
    }
  },
  "cells": [
    {
      "cell_type": "markdown",
      "metadata": {
        "id": "view-in-github",
        "colab_type": "text"
      },
      "source": [
        "<a href=\"https://colab.research.google.com/github/Charvika16/2024-STATMl_assignmentsss/blob/main/2303A52448(sml_10).ipynb\" target=\"_parent\"><img src=\"https://colab.research.google.com/assets/colab-badge.svg\" alt=\"Open In Colab\"/></a>"
      ]
    },
    {
      "cell_type": "markdown",
      "source": [
        "Question 1:\n",
        "\n",
        "1.Read the data with pandas and find features and target variables\n",
        "\n",
        "2.Find target variable\n",
        "\n",
        "3.Train KNN model\n",
        "\n",
        "4.Find accuracy with different test sizes"
      ],
      "metadata": {
        "id": "jIY165cq2TR1"
      }
    },
    {
      "cell_type": "code",
      "source": [
        "import pandas as pd"
      ],
      "metadata": {
        "id": "rHEa1_di2bRd"
      },
      "execution_count": 1,
      "outputs": []
    },
    {
      "cell_type": "code",
      "source": [
        "A=pd.read_csv('/content/archive (3).zip')\n",
        "print(A)"
      ],
      "metadata": {
        "colab": {
          "base_uri": "https://localhost:8080/"
        },
        "id": "ehCLKLle2evA",
        "outputId": "9233744a-4a9e-458d-9340-00ff5ea6a43b"
      },
      "execution_count": 2,
      "outputs": [
        {
          "output_type": "stream",
          "name": "stdout",
          "text": [
            "     Age  Gender  Protein1  Protein2  Protein3  Protein4 Tumour_Stage  \\\n",
            "0     42  FEMALE  0.952560   2.15000  0.007972 -0.048340           II   \n",
            "1     54  FEMALE  0.000000   1.38020 -0.498030 -0.507320           II   \n",
            "2     63  FEMALE -0.523030   1.76400 -0.370190  0.010815           II   \n",
            "3     78  FEMALE -0.876180   0.12943 -0.370380  0.132190            I   \n",
            "4     42  FEMALE  0.226110   1.74910 -0.543970 -0.390210           II   \n",
            "..   ...     ...       ...       ...       ...       ...          ...   \n",
            "329   59  FEMALE  0.024598   1.40050  0.024751  0.280320           II   \n",
            "330   41  FEMALE  0.100120  -0.46547  0.472370 -0.523870            I   \n",
            "331   54  FEMALE  0.753820   1.64250 -0.332850  0.857860           II   \n",
            "332   74  FEMALE  0.972510   1.42680 -0.366570 -0.107820           II   \n",
            "333   66  FEMALE  0.286380   1.39980  0.318830  0.836050           II   \n",
            "\n",
            "                          Histology ER status PR status HER2 status  \\\n",
            "0     Infiltrating Ductal Carcinoma  Positive  Positive    Negative   \n",
            "1     Infiltrating Ductal Carcinoma  Positive  Positive    Negative   \n",
            "2     Infiltrating Ductal Carcinoma  Positive  Positive    Negative   \n",
            "3     Infiltrating Ductal Carcinoma  Positive  Positive    Negative   \n",
            "4     Infiltrating Ductal Carcinoma  Positive  Positive    Positive   \n",
            "..                              ...       ...       ...         ...   \n",
            "329   Infiltrating Ductal Carcinoma  Positive  Positive    Positive   \n",
            "330   Infiltrating Ductal Carcinoma  Positive  Positive    Positive   \n",
            "331   Infiltrating Ductal Carcinoma  Positive  Positive    Negative   \n",
            "332  Infiltrating Lobular Carcinoma  Positive  Positive    Negative   \n",
            "333   Infiltrating Ductal Carcinoma  Positive  Positive    Negative   \n",
            "\n",
            "                    Surgery_type Date_of_Surgery Date_of_Last_Visit  \\\n",
            "0                          Other       20-May-18          26-Aug-18   \n",
            "1                          Other       26-Apr-18          25-Jan-19   \n",
            "2                     Lumpectomy       24-Aug-18          08-Apr-20   \n",
            "3                          Other       16-Nov-18          28-Jul-20   \n",
            "4                     Lumpectomy       12-Dec-18          05-Jan-19   \n",
            "..                           ...             ...                ...   \n",
            "329                   Lumpectomy       15-Jan-19          27-Mar-20   \n",
            "330  Modified Radical Mastectomy       25-Jul-18          23-Apr-19   \n",
            "331            Simple Mastectomy       26-Mar-19          11-Oct-19   \n",
            "332                   Lumpectomy       26-Nov-18          05-Dec-18   \n",
            "333  Modified Radical Mastectomy       04-Feb-19          10-Aug-19   \n",
            "\n",
            "    Patient_Status  \n",
            "0            Alive  \n",
            "1             Dead  \n",
            "2            Alive  \n",
            "3            Alive  \n",
            "4            Alive  \n",
            "..             ...  \n",
            "329          Alive  \n",
            "330          Alive  \n",
            "331           Dead  \n",
            "332          Alive  \n",
            "333           Dead  \n",
            "\n",
            "[334 rows x 15 columns]\n"
          ]
        }
      ]
    },
    {
      "cell_type": "code",
      "source": [
        "y=A['Patient_Status']\n",
        "y=y.fillna(0)\n",
        "print(y)"
      ],
      "metadata": {
        "colab": {
          "base_uri": "https://localhost:8080/"
        },
        "id": "foiQpDTutNsx",
        "outputId": "76f1cbca-83b5-4c8f-e1a6-05f6cf871e10"
      },
      "execution_count": 3,
      "outputs": [
        {
          "output_type": "stream",
          "name": "stdout",
          "text": [
            "0      Alive\n",
            "1       Dead\n",
            "2      Alive\n",
            "3      Alive\n",
            "4      Alive\n",
            "       ...  \n",
            "329    Alive\n",
            "330    Alive\n",
            "331     Dead\n",
            "332    Alive\n",
            "333     Dead\n",
            "Name: Patient_Status, Length: 334, dtype: object\n"
          ]
        }
      ]
    },
    {
      "cell_type": "code",
      "source": [
        "y = A['Patient_Status']\n",
        "x = A.drop(['Date_of_Surgery', 'Date_of_Last_Visit', 'Patient_Status'], axis=1)\n",
        "print(\"Target: \", y)\n",
        "print(\"Features: \", x)\n"
      ],
      "metadata": {
        "colab": {
          "base_uri": "https://localhost:8080/"
        },
        "id": "3-yzuweqtRki",
        "outputId": "7eabd9f6-def8-4761-b8ad-da0c61f5b031"
      },
      "execution_count": 4,
      "outputs": [
        {
          "output_type": "stream",
          "name": "stdout",
          "text": [
            "Target:  0      Alive\n",
            "1       Dead\n",
            "2      Alive\n",
            "3      Alive\n",
            "4      Alive\n",
            "       ...  \n",
            "329    Alive\n",
            "330    Alive\n",
            "331     Dead\n",
            "332    Alive\n",
            "333     Dead\n",
            "Name: Patient_Status, Length: 334, dtype: object\n",
            "Features:       Age  Gender  Protein1  Protein2  Protein3  Protein4 Tumour_Stage  \\\n",
            "0     42  FEMALE  0.952560   2.15000  0.007972 -0.048340           II   \n",
            "1     54  FEMALE  0.000000   1.38020 -0.498030 -0.507320           II   \n",
            "2     63  FEMALE -0.523030   1.76400 -0.370190  0.010815           II   \n",
            "3     78  FEMALE -0.876180   0.12943 -0.370380  0.132190            I   \n",
            "4     42  FEMALE  0.226110   1.74910 -0.543970 -0.390210           II   \n",
            "..   ...     ...       ...       ...       ...       ...          ...   \n",
            "329   59  FEMALE  0.024598   1.40050  0.024751  0.280320           II   \n",
            "330   41  FEMALE  0.100120  -0.46547  0.472370 -0.523870            I   \n",
            "331   54  FEMALE  0.753820   1.64250 -0.332850  0.857860           II   \n",
            "332   74  FEMALE  0.972510   1.42680 -0.366570 -0.107820           II   \n",
            "333   66  FEMALE  0.286380   1.39980  0.318830  0.836050           II   \n",
            "\n",
            "                          Histology ER status PR status HER2 status  \\\n",
            "0     Infiltrating Ductal Carcinoma  Positive  Positive    Negative   \n",
            "1     Infiltrating Ductal Carcinoma  Positive  Positive    Negative   \n",
            "2     Infiltrating Ductal Carcinoma  Positive  Positive    Negative   \n",
            "3     Infiltrating Ductal Carcinoma  Positive  Positive    Negative   \n",
            "4     Infiltrating Ductal Carcinoma  Positive  Positive    Positive   \n",
            "..                              ...       ...       ...         ...   \n",
            "329   Infiltrating Ductal Carcinoma  Positive  Positive    Positive   \n",
            "330   Infiltrating Ductal Carcinoma  Positive  Positive    Positive   \n",
            "331   Infiltrating Ductal Carcinoma  Positive  Positive    Negative   \n",
            "332  Infiltrating Lobular Carcinoma  Positive  Positive    Negative   \n",
            "333   Infiltrating Ductal Carcinoma  Positive  Positive    Negative   \n",
            "\n",
            "                    Surgery_type  \n",
            "0                          Other  \n",
            "1                          Other  \n",
            "2                     Lumpectomy  \n",
            "3                          Other  \n",
            "4                     Lumpectomy  \n",
            "..                           ...  \n",
            "329                   Lumpectomy  \n",
            "330  Modified Radical Mastectomy  \n",
            "331            Simple Mastectomy  \n",
            "332                   Lumpectomy  \n",
            "333  Modified Radical Mastectomy  \n",
            "\n",
            "[334 rows x 12 columns]\n"
          ]
        }
      ]
    },
    {
      "cell_type": "code",
      "source": [
        "mapping = {'Alive': 1, 'Dead': 0}\n",
        "y = y.map(mapping)\n",
        "print(y)"
      ],
      "metadata": {
        "colab": {
          "base_uri": "https://localhost:8080/"
        },
        "id": "_ZZC2lPutVfe",
        "outputId": "c18ed122-a5c4-47b4-9f73-894c07dc4223"
      },
      "execution_count": 5,
      "outputs": [
        {
          "output_type": "stream",
          "name": "stdout",
          "text": [
            "0      1.0\n",
            "1      0.0\n",
            "2      1.0\n",
            "3      1.0\n",
            "4      1.0\n",
            "      ... \n",
            "329    1.0\n",
            "330    1.0\n",
            "331    0.0\n",
            "332    1.0\n",
            "333    0.0\n",
            "Name: Patient_Status, Length: 334, dtype: float64\n"
          ]
        }
      ]
    },
    {
      "cell_type": "code",
      "source": [
        "x=x.replace('Positive',1)\n",
        "x=x.replace('Negative',0)\n",
        "print(x)"
      ],
      "metadata": {
        "colab": {
          "base_uri": "https://localhost:8080/"
        },
        "id": "62JOhKCOtYDx",
        "outputId": "a0caa1b6-4663-4563-e594-35f22fcd0363"
      },
      "execution_count": 6,
      "outputs": [
        {
          "output_type": "stream",
          "name": "stdout",
          "text": [
            "     Age  Gender  Protein1  Protein2  Protein3  Protein4 Tumour_Stage  \\\n",
            "0     42  FEMALE  0.952560   2.15000  0.007972 -0.048340           II   \n",
            "1     54  FEMALE  0.000000   1.38020 -0.498030 -0.507320           II   \n",
            "2     63  FEMALE -0.523030   1.76400 -0.370190  0.010815           II   \n",
            "3     78  FEMALE -0.876180   0.12943 -0.370380  0.132190            I   \n",
            "4     42  FEMALE  0.226110   1.74910 -0.543970 -0.390210           II   \n",
            "..   ...     ...       ...       ...       ...       ...          ...   \n",
            "329   59  FEMALE  0.024598   1.40050  0.024751  0.280320           II   \n",
            "330   41  FEMALE  0.100120  -0.46547  0.472370 -0.523870            I   \n",
            "331   54  FEMALE  0.753820   1.64250 -0.332850  0.857860           II   \n",
            "332   74  FEMALE  0.972510   1.42680 -0.366570 -0.107820           II   \n",
            "333   66  FEMALE  0.286380   1.39980  0.318830  0.836050           II   \n",
            "\n",
            "                          Histology  ER status  PR status  HER2 status  \\\n",
            "0     Infiltrating Ductal Carcinoma          1          1            0   \n",
            "1     Infiltrating Ductal Carcinoma          1          1            0   \n",
            "2     Infiltrating Ductal Carcinoma          1          1            0   \n",
            "3     Infiltrating Ductal Carcinoma          1          1            0   \n",
            "4     Infiltrating Ductal Carcinoma          1          1            1   \n",
            "..                              ...        ...        ...          ...   \n",
            "329   Infiltrating Ductal Carcinoma          1          1            1   \n",
            "330   Infiltrating Ductal Carcinoma          1          1            1   \n",
            "331   Infiltrating Ductal Carcinoma          1          1            0   \n",
            "332  Infiltrating Lobular Carcinoma          1          1            0   \n",
            "333   Infiltrating Ductal Carcinoma          1          1            0   \n",
            "\n",
            "                    Surgery_type  \n",
            "0                          Other  \n",
            "1                          Other  \n",
            "2                     Lumpectomy  \n",
            "3                          Other  \n",
            "4                     Lumpectomy  \n",
            "..                           ...  \n",
            "329                   Lumpectomy  \n",
            "330  Modified Radical Mastectomy  \n",
            "331            Simple Mastectomy  \n",
            "332                   Lumpectomy  \n",
            "333  Modified Radical Mastectomy  \n",
            "\n",
            "[334 rows x 12 columns]\n"
          ]
        },
        {
          "output_type": "stream",
          "name": "stderr",
          "text": [
            "<ipython-input-6-382a61a6f558>:1: FutureWarning: Downcasting behavior in `replace` is deprecated and will be removed in a future version. To retain the old behavior, explicitly call `result.infer_objects(copy=False)`. To opt-in to the future behavior, set `pd.set_option('future.no_silent_downcasting', True)`\n",
            "  x=x.replace('Positive',1)\n",
            "<ipython-input-6-382a61a6f558>:2: FutureWarning: Downcasting behavior in `replace` is deprecated and will be removed in a future version. To retain the old behavior, explicitly call `result.infer_objects(copy=False)`. To opt-in to the future behavior, set `pd.set_option('future.no_silent_downcasting', True)`\n",
            "  x=x.replace('Negative',0)\n"
          ]
        }
      ]
    },
    {
      "cell_type": "code",
      "source": [
        "x=x.replace('FEMALE',1)\n",
        "x=x.replace('MALE',0)\n",
        "print(x)"
      ],
      "metadata": {
        "colab": {
          "base_uri": "https://localhost:8080/"
        },
        "id": "6JiwaPVgtbtl",
        "outputId": "a6de7686-5462-4a96-a200-7df03d5a40e0"
      },
      "execution_count": 7,
      "outputs": [
        {
          "output_type": "stream",
          "name": "stdout",
          "text": [
            "     Age  Gender  Protein1  Protein2  Protein3  Protein4 Tumour_Stage  \\\n",
            "0     42       1  0.952560   2.15000  0.007972 -0.048340           II   \n",
            "1     54       1  0.000000   1.38020 -0.498030 -0.507320           II   \n",
            "2     63       1 -0.523030   1.76400 -0.370190  0.010815           II   \n",
            "3     78       1 -0.876180   0.12943 -0.370380  0.132190            I   \n",
            "4     42       1  0.226110   1.74910 -0.543970 -0.390210           II   \n",
            "..   ...     ...       ...       ...       ...       ...          ...   \n",
            "329   59       1  0.024598   1.40050  0.024751  0.280320           II   \n",
            "330   41       1  0.100120  -0.46547  0.472370 -0.523870            I   \n",
            "331   54       1  0.753820   1.64250 -0.332850  0.857860           II   \n",
            "332   74       1  0.972510   1.42680 -0.366570 -0.107820           II   \n",
            "333   66       1  0.286380   1.39980  0.318830  0.836050           II   \n",
            "\n",
            "                          Histology  ER status  PR status  HER2 status  \\\n",
            "0     Infiltrating Ductal Carcinoma          1          1            0   \n",
            "1     Infiltrating Ductal Carcinoma          1          1            0   \n",
            "2     Infiltrating Ductal Carcinoma          1          1            0   \n",
            "3     Infiltrating Ductal Carcinoma          1          1            0   \n",
            "4     Infiltrating Ductal Carcinoma          1          1            1   \n",
            "..                              ...        ...        ...          ...   \n",
            "329   Infiltrating Ductal Carcinoma          1          1            1   \n",
            "330   Infiltrating Ductal Carcinoma          1          1            1   \n",
            "331   Infiltrating Ductal Carcinoma          1          1            0   \n",
            "332  Infiltrating Lobular Carcinoma          1          1            0   \n",
            "333   Infiltrating Ductal Carcinoma          1          1            0   \n",
            "\n",
            "                    Surgery_type  \n",
            "0                          Other  \n",
            "1                          Other  \n",
            "2                     Lumpectomy  \n",
            "3                          Other  \n",
            "4                     Lumpectomy  \n",
            "..                           ...  \n",
            "329                   Lumpectomy  \n",
            "330  Modified Radical Mastectomy  \n",
            "331            Simple Mastectomy  \n",
            "332                   Lumpectomy  \n",
            "333  Modified Radical Mastectomy  \n",
            "\n",
            "[334 rows x 12 columns]\n"
          ]
        },
        {
          "output_type": "stream",
          "name": "stderr",
          "text": [
            "<ipython-input-7-1ec089d38045>:2: FutureWarning: Downcasting behavior in `replace` is deprecated and will be removed in a future version. To retain the old behavior, explicitly call `result.infer_objects(copy=False)`. To opt-in to the future behavior, set `pd.set_option('future.no_silent_downcasting', True)`\n",
            "  x=x.replace('MALE',0)\n"
          ]
        }
      ]
    },
    {
      "cell_type": "code",
      "source": [
        "x=x.replace('I',1.0)\n",
        "x=x.replace('II',0.0)\n",
        "x=x.replace('III',2.0)\n",
        "print(x)"
      ],
      "metadata": {
        "colab": {
          "base_uri": "https://localhost:8080/"
        },
        "id": "UGm1-ohoth2k",
        "outputId": "a72cd136-7a1e-4c81-bbdb-660f7a1b637e"
      },
      "execution_count": 8,
      "outputs": [
        {
          "output_type": "stream",
          "name": "stdout",
          "text": [
            "     Age  Gender  Protein1  Protein2  Protein3  Protein4  Tumour_Stage  \\\n",
            "0     42       1  0.952560   2.15000  0.007972 -0.048340           0.0   \n",
            "1     54       1  0.000000   1.38020 -0.498030 -0.507320           0.0   \n",
            "2     63       1 -0.523030   1.76400 -0.370190  0.010815           0.0   \n",
            "3     78       1 -0.876180   0.12943 -0.370380  0.132190           1.0   \n",
            "4     42       1  0.226110   1.74910 -0.543970 -0.390210           0.0   \n",
            "..   ...     ...       ...       ...       ...       ...           ...   \n",
            "329   59       1  0.024598   1.40050  0.024751  0.280320           0.0   \n",
            "330   41       1  0.100120  -0.46547  0.472370 -0.523870           1.0   \n",
            "331   54       1  0.753820   1.64250 -0.332850  0.857860           0.0   \n",
            "332   74       1  0.972510   1.42680 -0.366570 -0.107820           0.0   \n",
            "333   66       1  0.286380   1.39980  0.318830  0.836050           0.0   \n",
            "\n",
            "                          Histology  ER status  PR status  HER2 status  \\\n",
            "0     Infiltrating Ductal Carcinoma          1          1            0   \n",
            "1     Infiltrating Ductal Carcinoma          1          1            0   \n",
            "2     Infiltrating Ductal Carcinoma          1          1            0   \n",
            "3     Infiltrating Ductal Carcinoma          1          1            0   \n",
            "4     Infiltrating Ductal Carcinoma          1          1            1   \n",
            "..                              ...        ...        ...          ...   \n",
            "329   Infiltrating Ductal Carcinoma          1          1            1   \n",
            "330   Infiltrating Ductal Carcinoma          1          1            1   \n",
            "331   Infiltrating Ductal Carcinoma          1          1            0   \n",
            "332  Infiltrating Lobular Carcinoma          1          1            0   \n",
            "333   Infiltrating Ductal Carcinoma          1          1            0   \n",
            "\n",
            "                    Surgery_type  \n",
            "0                          Other  \n",
            "1                          Other  \n",
            "2                     Lumpectomy  \n",
            "3                          Other  \n",
            "4                     Lumpectomy  \n",
            "..                           ...  \n",
            "329                   Lumpectomy  \n",
            "330  Modified Radical Mastectomy  \n",
            "331            Simple Mastectomy  \n",
            "332                   Lumpectomy  \n",
            "333  Modified Radical Mastectomy  \n",
            "\n",
            "[334 rows x 12 columns]\n"
          ]
        },
        {
          "output_type": "stream",
          "name": "stderr",
          "text": [
            "<ipython-input-8-0df0e29a517b>:3: FutureWarning: Downcasting behavior in `replace` is deprecated and will be removed in a future version. To retain the old behavior, explicitly call `result.infer_objects(copy=False)`. To opt-in to the future behavior, set `pd.set_option('future.no_silent_downcasting', True)`\n",
            "  x=x.replace('III',2.0)\n"
          ]
        }
      ]
    },
    {
      "cell_type": "code",
      "source": [
        "x=x.replace('Infiltrating Ductal Carcinoma',0)\n",
        "x=x.replace('Infiltrating Lobular Carcinoma',1)\n",
        "x=x.replace('Mucinous Carcinoma',2)\n",
        "print(x)"
      ],
      "metadata": {
        "colab": {
          "base_uri": "https://localhost:8080/"
        },
        "id": "T2pLbGbLtlBA",
        "outputId": "87dafce0-9466-4170-a624-64c323677b43"
      },
      "execution_count": 9,
      "outputs": [
        {
          "output_type": "stream",
          "name": "stdout",
          "text": [
            "     Age  Gender  Protein1  Protein2  Protein3  Protein4  Tumour_Stage  \\\n",
            "0     42       1  0.952560   2.15000  0.007972 -0.048340           0.0   \n",
            "1     54       1  0.000000   1.38020 -0.498030 -0.507320           0.0   \n",
            "2     63       1 -0.523030   1.76400 -0.370190  0.010815           0.0   \n",
            "3     78       1 -0.876180   0.12943 -0.370380  0.132190           1.0   \n",
            "4     42       1  0.226110   1.74910 -0.543970 -0.390210           0.0   \n",
            "..   ...     ...       ...       ...       ...       ...           ...   \n",
            "329   59       1  0.024598   1.40050  0.024751  0.280320           0.0   \n",
            "330   41       1  0.100120  -0.46547  0.472370 -0.523870           1.0   \n",
            "331   54       1  0.753820   1.64250 -0.332850  0.857860           0.0   \n",
            "332   74       1  0.972510   1.42680 -0.366570 -0.107820           0.0   \n",
            "333   66       1  0.286380   1.39980  0.318830  0.836050           0.0   \n",
            "\n",
            "     Histology  ER status  PR status  HER2 status                 Surgery_type  \n",
            "0            0          1          1            0                        Other  \n",
            "1            0          1          1            0                        Other  \n",
            "2            0          1          1            0                   Lumpectomy  \n",
            "3            0          1          1            0                        Other  \n",
            "4            0          1          1            1                   Lumpectomy  \n",
            "..         ...        ...        ...          ...                          ...  \n",
            "329          0          1          1            1                   Lumpectomy  \n",
            "330          0          1          1            1  Modified Radical Mastectomy  \n",
            "331          0          1          1            0            Simple Mastectomy  \n",
            "332          1          1          1            0                   Lumpectomy  \n",
            "333          0          1          1            0  Modified Radical Mastectomy  \n",
            "\n",
            "[334 rows x 12 columns]\n"
          ]
        },
        {
          "output_type": "stream",
          "name": "stderr",
          "text": [
            "<ipython-input-9-2e698e3420b8>:3: FutureWarning: Downcasting behavior in `replace` is deprecated and will be removed in a future version. To retain the old behavior, explicitly call `result.infer_objects(copy=False)`. To opt-in to the future behavior, set `pd.set_option('future.no_silent_downcasting', True)`\n",
            "  x=x.replace('Mucinous Carcinoma',2)\n"
          ]
        }
      ]
    },
    {
      "cell_type": "code",
      "source": [
        "x=x.replace('Other',0)\n",
        "x=x.replace('Lumpectomy',1)\n",
        "x=x.replace('Modified Radical Mastectomy',2)\n",
        "x=x.replace('Simple Mastectomy',3)\n",
        "print(x)"
      ],
      "metadata": {
        "colab": {
          "base_uri": "https://localhost:8080/"
        },
        "id": "Mz4S7SiHtmkB",
        "outputId": "270bb5f6-1289-499d-a774-3c2f00ded6e2"
      },
      "execution_count": 10,
      "outputs": [
        {
          "output_type": "stream",
          "name": "stdout",
          "text": [
            "     Age  Gender  Protein1  Protein2  Protein3  Protein4  Tumour_Stage  \\\n",
            "0     42       1  0.952560   2.15000  0.007972 -0.048340           0.0   \n",
            "1     54       1  0.000000   1.38020 -0.498030 -0.507320           0.0   \n",
            "2     63       1 -0.523030   1.76400 -0.370190  0.010815           0.0   \n",
            "3     78       1 -0.876180   0.12943 -0.370380  0.132190           1.0   \n",
            "4     42       1  0.226110   1.74910 -0.543970 -0.390210           0.0   \n",
            "..   ...     ...       ...       ...       ...       ...           ...   \n",
            "329   59       1  0.024598   1.40050  0.024751  0.280320           0.0   \n",
            "330   41       1  0.100120  -0.46547  0.472370 -0.523870           1.0   \n",
            "331   54       1  0.753820   1.64250 -0.332850  0.857860           0.0   \n",
            "332   74       1  0.972510   1.42680 -0.366570 -0.107820           0.0   \n",
            "333   66       1  0.286380   1.39980  0.318830  0.836050           0.0   \n",
            "\n",
            "     Histology  ER status  PR status  HER2 status  Surgery_type  \n",
            "0            0          1          1            0             0  \n",
            "1            0          1          1            0             0  \n",
            "2            0          1          1            0             1  \n",
            "3            0          1          1            0             0  \n",
            "4            0          1          1            1             1  \n",
            "..         ...        ...        ...          ...           ...  \n",
            "329          0          1          1            1             1  \n",
            "330          0          1          1            1             2  \n",
            "331          0          1          1            0             3  \n",
            "332          1          1          1            0             1  \n",
            "333          0          1          1            0             2  \n",
            "\n",
            "[334 rows x 12 columns]\n"
          ]
        },
        {
          "output_type": "stream",
          "name": "stderr",
          "text": [
            "<ipython-input-10-3953fd5d6d31>:4: FutureWarning: Downcasting behavior in `replace` is deprecated and will be removed in a future version. To retain the old behavior, explicitly call `result.infer_objects(copy=False)`. To opt-in to the future behavior, set `pd.set_option('future.no_silent_downcasting', True)`\n",
            "  x=x.replace('Simple Mastectomy',3)\n"
          ]
        }
      ]
    },
    {
      "cell_type": "code",
      "source": [
        "x = (x - x.min()) / (x.max() - x.min())\n",
        "x.fillna(0, inplace=True)\n",
        "y.fillna(0, inplace=True)\n",
        "print(\"Normalized Features:\", x)\n",
        "print(\"Normalized Features:\", y)"
      ],
      "metadata": {
        "colab": {
          "base_uri": "https://localhost:8080/"
        },
        "id": "AW4-IWuatrUC",
        "outputId": "d9066a3f-7f82-45c1-808b-d36c8d927ddd"
      },
      "execution_count": 11,
      "outputs": [
        {
          "output_type": "stream",
          "name": "stdout",
          "text": [
            "Normalized Features:           Age  Gender  Protein1  Protein2  Protein3  Protein4  Tumour_Stage  \\\n",
            "0    0.213115     1.0  0.837072  0.714170  0.428018  0.540887           0.0   \n",
            "1    0.409836     1.0  0.594968  0.538454  0.295585  0.415325           0.0   \n",
            "2    0.557377     1.0  0.462033  0.626061  0.329044  0.557070           0.0   \n",
            "3    0.803279     1.0  0.372276  0.252951  0.328994  0.590275           0.5   \n",
            "4    0.213115     1.0  0.652436  0.622660  0.283561  0.447363           0.0   \n",
            "..        ...     ...       ...       ...       ...       ...           ...   \n",
            "329  0.491803     1.0  0.601219  0.543088  0.432410  0.630798           0.0   \n",
            "330  0.196721     1.0  0.620414  0.117158  0.549563  0.410798           0.5   \n",
            "331  0.409836     1.0  0.786560  0.598327  0.338816  0.788795           0.0   \n",
            "332  0.737705     1.0  0.842143  0.549091  0.329991  0.524616           0.0   \n",
            "333  0.606557     1.0  0.667754  0.542928  0.509378  0.782828           0.0   \n",
            "\n",
            "     Histology  ER status  PR status  HER2 status  Surgery_type  \n",
            "0          0.0        0.0        0.0          0.0      0.000000  \n",
            "1          0.0        0.0        0.0          0.0      0.000000  \n",
            "2          0.0        0.0        0.0          0.0      0.333333  \n",
            "3          0.0        0.0        0.0          0.0      0.000000  \n",
            "4          0.0        0.0        0.0          1.0      0.333333  \n",
            "..         ...        ...        ...          ...           ...  \n",
            "329        0.0        0.0        0.0          1.0      0.333333  \n",
            "330        0.0        0.0        0.0          1.0      0.666667  \n",
            "331        0.0        0.0        0.0          0.0      1.000000  \n",
            "332        0.5        0.0        0.0          0.0      0.333333  \n",
            "333        0.0        0.0        0.0          0.0      0.666667  \n",
            "\n",
            "[334 rows x 12 columns]\n",
            "Normalized Features: 0      1.0\n",
            "1      0.0\n",
            "2      1.0\n",
            "3      1.0\n",
            "4      1.0\n",
            "      ... \n",
            "329    1.0\n",
            "330    1.0\n",
            "331    0.0\n",
            "332    1.0\n",
            "333    0.0\n",
            "Name: Patient_Status, Length: 334, dtype: float64\n"
          ]
        }
      ]
    },
    {
      "cell_type": "code",
      "source": [
        "x = (x - x.min()) / (x.max() - x.min())\n",
        "y.fillna(0, inplace=True)\n",
        "x.fillna(0, inplace=True)"
      ],
      "metadata": {
        "id": "8PXTBK86tteS"
      },
      "execution_count": 12,
      "outputs": []
    },
    {
      "cell_type": "code",
      "source": [
        "from sklearn.model_selection import train_test_split\n",
        "x_train,x_test,y_train,y_test=train_test_split(x,y,test_size=0.3,random_state=42)"
      ],
      "metadata": {
        "id": "B3pMECmAt-7X"
      },
      "execution_count": 14,
      "outputs": []
    },
    {
      "cell_type": "code",
      "source": [
        "from sklearn.neighbors import KNeighborsClassifier\n",
        "from sklearn.metrics import accuracy_score, confusion_matrix, classification_report"
      ],
      "metadata": {
        "id": "Px4LeNXluJKl"
      },
      "execution_count": 17,
      "outputs": []
    },
    {
      "cell_type": "code",
      "source": [
        "test_sizes = [0.2, 0.3, 0.4]\n",
        "for test_size in test_sizes:\n",
        "    X_train, X_test, y_train, y_test = train_test_split(x, y, test_size=test_size, random_state=42)\n",
        "    knn_model = KNeighborsClassifier(n_neighbors=5)\n",
        "    knn_model.fit(X_train, y_train)\n",
        "    y_pred = knn_model.predict(X_test)\n",
        "    accuracy = accuracy_score(y_test, y_pred)\n",
        "    print(f\"Test size: {test_size}, Accuracy: {accuracy}\")\n",
        "    confusion_mat = confusion_matrix(y_test, y_pred)\n",
        "    print(\"Confusion Matrix:\")\n",
        "    print(confusion_mat)\n",
        "    classification_rep = classification_report(y_test, y_pred, zero_division=1)\n",
        "    print(\"Classification Report:\")\n",
        "    print(classification_rep)\n",
        ""
      ],
      "metadata": {
        "colab": {
          "base_uri": "https://localhost:8080/"
        },
        "id": "nEooEhdtt7vO",
        "outputId": "14cbfd4a-547b-4f84-a3a1-ab52fb0d94d2"
      },
      "execution_count": 18,
      "outputs": [
        {
          "output_type": "stream",
          "name": "stdout",
          "text": [
            "Test size: 0.2, Accuracy: 0.746268656716418\n",
            "Confusion Matrix:\n",
            "[[ 1 14]\n",
            " [ 3 49]]\n",
            "Classification Report:\n",
            "              precision    recall  f1-score   support\n",
            "\n",
            "         0.0       0.25      0.07      0.11        15\n",
            "         1.0       0.78      0.94      0.85        52\n",
            "\n",
            "    accuracy                           0.75        67\n",
            "   macro avg       0.51      0.50      0.48        67\n",
            "weighted avg       0.66      0.75      0.68        67\n",
            "\n",
            "Test size: 0.3, Accuracy: 0.7425742574257426\n",
            "Confusion Matrix:\n",
            "[[ 2 20]\n",
            " [ 6 73]]\n",
            "Classification Report:\n",
            "              precision    recall  f1-score   support\n",
            "\n",
            "         0.0       0.25      0.09      0.13        22\n",
            "         1.0       0.78      0.92      0.85        79\n",
            "\n",
            "    accuracy                           0.74       101\n",
            "   macro avg       0.52      0.51      0.49       101\n",
            "weighted avg       0.67      0.74      0.69       101\n",
            "\n",
            "Test size: 0.4, Accuracy: 0.7014925373134329\n",
            "Confusion Matrix:\n",
            "[[ 5 26]\n",
            " [14 89]]\n",
            "Classification Report:\n",
            "              precision    recall  f1-score   support\n",
            "\n",
            "         0.0       0.26      0.16      0.20        31\n",
            "         1.0       0.77      0.86      0.82       103\n",
            "\n",
            "    accuracy                           0.70       134\n",
            "   macro avg       0.52      0.51      0.51       134\n",
            "weighted avg       0.66      0.70      0.67       134\n",
            "\n"
          ]
        }
      ]
    },
    {
      "cell_type": "code",
      "source": [
        "from sklearn.svm import SVC"
      ],
      "metadata": {
        "id": "udkgC2kduXA0"
      },
      "execution_count": 20,
      "outputs": []
    },
    {
      "cell_type": "code",
      "source": [
        "\n",
        "test_sizes = [0.2, 0.25, 0.3, 0.35]\n",
        "for test_size in test_sizes:\n",
        "    X_train, X_test, y_train, y_test = train_test_split(x, y, test_size=test_size, random_state=42)\n",
        "    svm_model = SVC()\n",
        "    svm_model.fit(X_train, y_train)\n",
        "    y_pred = svm_model.predict(X_test)\n",
        "    accuracy = accuracy_score(y_test, y_pred)\n",
        "    print(f\"Test size: {test_size}, Accuracy: {accuracy}\")\n",
        "    confusion_mat = confusion_matrix(y_test, y_pred)\n",
        "    print(\"Confusion Matrix:\")\n",
        "    print(confusion_mat)\n",
        "    classification_rep = classification_report(y_test, y_pred, zero_division=1)\n",
        "    print(\"Classification Report:\")\n",
        "    print(classification_rep)"
      ],
      "metadata": {
        "colab": {
          "base_uri": "https://localhost:8080/"
        },
        "id": "fqVFfQ-0uPtG",
        "outputId": "08bf6a02-22c2-4ecb-dbe1-23cf31be650b"
      },
      "execution_count": 21,
      "outputs": [
        {
          "output_type": "stream",
          "name": "stdout",
          "text": [
            "Test size: 0.2, Accuracy: 0.7761194029850746\n",
            "Confusion Matrix:\n",
            "[[ 0 15]\n",
            " [ 0 52]]\n",
            "Classification Report:\n",
            "              precision    recall  f1-score   support\n",
            "\n",
            "         0.0       1.00      0.00      0.00        15\n",
            "         1.0       0.78      1.00      0.87        52\n",
            "\n",
            "    accuracy                           0.78        67\n",
            "   macro avg       0.89      0.50      0.44        67\n",
            "weighted avg       0.83      0.78      0.68        67\n",
            "\n",
            "Test size: 0.25, Accuracy: 0.7738095238095238\n",
            "Confusion Matrix:\n",
            "[[ 0 19]\n",
            " [ 0 65]]\n",
            "Classification Report:\n",
            "              precision    recall  f1-score   support\n",
            "\n",
            "         0.0       1.00      0.00      0.00        19\n",
            "         1.0       0.77      1.00      0.87        65\n",
            "\n",
            "    accuracy                           0.77        84\n",
            "   macro avg       0.89      0.50      0.44        84\n",
            "weighted avg       0.82      0.77      0.68        84\n",
            "\n",
            "Test size: 0.3, Accuracy: 0.7821782178217822\n",
            "Confusion Matrix:\n",
            "[[ 0 22]\n",
            " [ 0 79]]\n",
            "Classification Report:\n",
            "              precision    recall  f1-score   support\n",
            "\n",
            "         0.0       1.00      0.00      0.00        22\n",
            "         1.0       0.78      1.00      0.88        79\n",
            "\n",
            "    accuracy                           0.78       101\n",
            "   macro avg       0.89      0.50      0.44       101\n",
            "weighted avg       0.83      0.78      0.69       101\n",
            "\n",
            "Test size: 0.35, Accuracy: 0.7863247863247863\n",
            "Confusion Matrix:\n",
            "[[ 0 25]\n",
            " [ 0 92]]\n",
            "Classification Report:\n",
            "              precision    recall  f1-score   support\n",
            "\n",
            "         0.0       1.00      0.00      0.00        25\n",
            "         1.0       0.79      1.00      0.88        92\n",
            "\n",
            "    accuracy                           0.79       117\n",
            "   macro avg       0.89      0.50      0.44       117\n",
            "weighted avg       0.83      0.79      0.69       117\n",
            "\n"
          ]
        }
      ]
    }
  ]
}