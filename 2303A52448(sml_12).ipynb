{
  "nbformat": 4,
  "nbformat_minor": 0,
  "metadata": {
    "colab": {
      "provenance": [],
      "authorship_tag": "ABX9TyMdYKKO/CvQDDokEJVZhb6y",
      "include_colab_link": true
    },
    "kernelspec": {
      "name": "python3",
      "display_name": "Python 3"
    },
    "language_info": {
      "name": "python"
    }
  },
  "cells": [
    {
      "cell_type": "markdown",
      "metadata": {
        "id": "view-in-github",
        "colab_type": "text"
      },
      "source": [
        "<a href=\"https://colab.research.google.com/github/Charvika16/2024-STATMl_assignmentsss/blob/main/2303A52448(sm1_12).ipynb\" target=\"_parent\"><img src=\"https://colab.research.google.com/assets/colab-badge.svg\" alt=\"Open In Colab\"/></a>"
      ]
    },
    {
      "cell_type": "code",
      "execution_count": 1,
      "metadata": {
        "id": "btD0w8j03lYL"
      },
      "outputs": [],
      "source": [
        "import pandas as pd"
      ]
    },
    {
      "cell_type": "code",
      "source": [
        "A=pd.read_csv('/content/archive (5).zip')\n",
        "print(A)"
      ],
      "metadata": {
        "colab": {
          "base_uri": "https://localhost:8080/"
        },
        "id": "TvI3TtlW4DI0",
        "outputId": "8cf01980-c2c9-432c-b8dd-ea6ecf774f1a"
      },
      "execution_count": 2,
      "outputs": [
        {
          "output_type": "stream",
          "name": "stdout",
          "text": [
            "     Age  Gender  Protein1  Protein2  Protein3  Protein4 Tumour_Stage  \\\n",
            "0     42  FEMALE  0.952560   2.15000  0.007972 -0.048340           II   \n",
            "1     54  FEMALE  0.000000   1.38020 -0.498030 -0.507320           II   \n",
            "2     63  FEMALE -0.523030   1.76400 -0.370190  0.010815           II   \n",
            "3     78  FEMALE -0.876180   0.12943 -0.370380  0.132190            I   \n",
            "4     42  FEMALE  0.226110   1.74910 -0.543970 -0.390210           II   \n",
            "..   ...     ...       ...       ...       ...       ...          ...   \n",
            "329   59  FEMALE  0.024598   1.40050  0.024751  0.280320           II   \n",
            "330   41  FEMALE  0.100120  -0.46547  0.472370 -0.523870            I   \n",
            "331   54  FEMALE  0.753820   1.64250 -0.332850  0.857860           II   \n",
            "332   74  FEMALE  0.972510   1.42680 -0.366570 -0.107820           II   \n",
            "333   66  FEMALE  0.286380   1.39980  0.318830  0.836050           II   \n",
            "\n",
            "                          Histology ER status PR status HER2 status  \\\n",
            "0     Infiltrating Ductal Carcinoma  Positive  Positive    Negative   \n",
            "1     Infiltrating Ductal Carcinoma  Positive  Positive    Negative   \n",
            "2     Infiltrating Ductal Carcinoma  Positive  Positive    Negative   \n",
            "3     Infiltrating Ductal Carcinoma  Positive  Positive    Negative   \n",
            "4     Infiltrating Ductal Carcinoma  Positive  Positive    Positive   \n",
            "..                              ...       ...       ...         ...   \n",
            "329   Infiltrating Ductal Carcinoma  Positive  Positive    Positive   \n",
            "330   Infiltrating Ductal Carcinoma  Positive  Positive    Positive   \n",
            "331   Infiltrating Ductal Carcinoma  Positive  Positive    Negative   \n",
            "332  Infiltrating Lobular Carcinoma  Positive  Positive    Negative   \n",
            "333   Infiltrating Ductal Carcinoma  Positive  Positive    Negative   \n",
            "\n",
            "                    Surgery_type Date_of_Surgery Date_of_Last_Visit  \\\n",
            "0                          Other       20-May-18          26-Aug-18   \n",
            "1                          Other       26-Apr-18          25-Jan-19   \n",
            "2                     Lumpectomy       24-Aug-18          08-Apr-20   \n",
            "3                          Other       16-Nov-18          28-Jul-20   \n",
            "4                     Lumpectomy       12-Dec-18          05-Jan-19   \n",
            "..                           ...             ...                ...   \n",
            "329                   Lumpectomy       15-Jan-19          27-Mar-20   \n",
            "330  Modified Radical Mastectomy       25-Jul-18          23-Apr-19   \n",
            "331            Simple Mastectomy       26-Mar-19          11-Oct-19   \n",
            "332                   Lumpectomy       26-Nov-18          05-Dec-18   \n",
            "333  Modified Radical Mastectomy       04-Feb-19          10-Aug-19   \n",
            "\n",
            "    Patient_Status  \n",
            "0            Alive  \n",
            "1             Dead  \n",
            "2            Alive  \n",
            "3            Alive  \n",
            "4            Alive  \n",
            "..             ...  \n",
            "329          Alive  \n",
            "330          Alive  \n",
            "331           Dead  \n",
            "332          Alive  \n",
            "333           Dead  \n",
            "\n",
            "[334 rows x 15 columns]\n"
          ]
        }
      ]
    },
    {
      "cell_type": "code",
      "source": [
        "y=A['Patient_Status']\n",
        "y=y.fillna(0)\n",
        "print(y)"
      ],
      "metadata": {
        "colab": {
          "base_uri": "https://localhost:8080/"
        },
        "id": "euGIMw4e42BD",
        "outputId": "b353df2a-9cb9-4f36-bdfd-3ddae37cbc6d"
      },
      "execution_count": 3,
      "outputs": [
        {
          "output_type": "stream",
          "name": "stdout",
          "text": [
            "0      Alive\n",
            "1       Dead\n",
            "2      Alive\n",
            "3      Alive\n",
            "4      Alive\n",
            "       ...  \n",
            "329    Alive\n",
            "330    Alive\n",
            "331     Dead\n",
            "332    Alive\n",
            "333     Dead\n",
            "Name: Patient_Status, Length: 334, dtype: object\n"
          ]
        }
      ]
    },
    {
      "cell_type": "code",
      "source": [
        "y = A['Patient_Status']\n",
        "x = A.drop(['Date_of_Surgery', 'Date_of_Last_Visit', 'Patient_Status'], axis=1)\n",
        "print(\"Target: \", y)\n",
        "print(\"Features: \", x)"
      ],
      "metadata": {
        "colab": {
          "base_uri": "https://localhost:8080/"
        },
        "id": "jS-_FP1Y42EC",
        "outputId": "a2d70dca-60f4-444a-9557-72e1d51bf336"
      },
      "execution_count": 4,
      "outputs": [
        {
          "output_type": "stream",
          "name": "stdout",
          "text": [
            "Target:  0      Alive\n",
            "1       Dead\n",
            "2      Alive\n",
            "3      Alive\n",
            "4      Alive\n",
            "       ...  \n",
            "329    Alive\n",
            "330    Alive\n",
            "331     Dead\n",
            "332    Alive\n",
            "333     Dead\n",
            "Name: Patient_Status, Length: 334, dtype: object\n",
            "Features:       Age  Gender  Protein1  Protein2  Protein3  Protein4 Tumour_Stage  \\\n",
            "0     42  FEMALE  0.952560   2.15000  0.007972 -0.048340           II   \n",
            "1     54  FEMALE  0.000000   1.38020 -0.498030 -0.507320           II   \n",
            "2     63  FEMALE -0.523030   1.76400 -0.370190  0.010815           II   \n",
            "3     78  FEMALE -0.876180   0.12943 -0.370380  0.132190            I   \n",
            "4     42  FEMALE  0.226110   1.74910 -0.543970 -0.390210           II   \n",
            "..   ...     ...       ...       ...       ...       ...          ...   \n",
            "329   59  FEMALE  0.024598   1.40050  0.024751  0.280320           II   \n",
            "330   41  FEMALE  0.100120  -0.46547  0.472370 -0.523870            I   \n",
            "331   54  FEMALE  0.753820   1.64250 -0.332850  0.857860           II   \n",
            "332   74  FEMALE  0.972510   1.42680 -0.366570 -0.107820           II   \n",
            "333   66  FEMALE  0.286380   1.39980  0.318830  0.836050           II   \n",
            "\n",
            "                          Histology ER status PR status HER2 status  \\\n",
            "0     Infiltrating Ductal Carcinoma  Positive  Positive    Negative   \n",
            "1     Infiltrating Ductal Carcinoma  Positive  Positive    Negative   \n",
            "2     Infiltrating Ductal Carcinoma  Positive  Positive    Negative   \n",
            "3     Infiltrating Ductal Carcinoma  Positive  Positive    Negative   \n",
            "4     Infiltrating Ductal Carcinoma  Positive  Positive    Positive   \n",
            "..                              ...       ...       ...         ...   \n",
            "329   Infiltrating Ductal Carcinoma  Positive  Positive    Positive   \n",
            "330   Infiltrating Ductal Carcinoma  Positive  Positive    Positive   \n",
            "331   Infiltrating Ductal Carcinoma  Positive  Positive    Negative   \n",
            "332  Infiltrating Lobular Carcinoma  Positive  Positive    Negative   \n",
            "333   Infiltrating Ductal Carcinoma  Positive  Positive    Negative   \n",
            "\n",
            "                    Surgery_type  \n",
            "0                          Other  \n",
            "1                          Other  \n",
            "2                     Lumpectomy  \n",
            "3                          Other  \n",
            "4                     Lumpectomy  \n",
            "..                           ...  \n",
            "329                   Lumpectomy  \n",
            "330  Modified Radical Mastectomy  \n",
            "331            Simple Mastectomy  \n",
            "332                   Lumpectomy  \n",
            "333  Modified Radical Mastectomy  \n",
            "\n",
            "[334 rows x 12 columns]\n"
          ]
        }
      ]
    },
    {
      "cell_type": "code",
      "source": [
        "mapping = {'Alive': 1, 'Dead': 0}\n",
        "y = y.map(mapping)\n",
        "print(y)"
      ],
      "metadata": {
        "colab": {
          "base_uri": "https://localhost:8080/"
        },
        "id": "xftaOzUh42Hl",
        "outputId": "106fc3b9-9e39-48e4-b632-ad6ec88ee63f"
      },
      "execution_count": 5,
      "outputs": [
        {
          "output_type": "stream",
          "name": "stdout",
          "text": [
            "0      1.0\n",
            "1      0.0\n",
            "2      1.0\n",
            "3      1.0\n",
            "4      1.0\n",
            "      ... \n",
            "329    1.0\n",
            "330    1.0\n",
            "331    0.0\n",
            "332    1.0\n",
            "333    0.0\n",
            "Name: Patient_Status, Length: 334, dtype: float64\n"
          ]
        }
      ]
    },
    {
      "cell_type": "code",
      "source": [
        "x=x.replace('Positive',1)\n",
        "x=x.replace('Negative',0)\n",
        "print(x)"
      ],
      "metadata": {
        "colab": {
          "base_uri": "https://localhost:8080/"
        },
        "id": "SuqGsaYG5ALT",
        "outputId": "47916f8f-b8e1-459d-ce41-f6ffd52935b7"
      },
      "execution_count": 7,
      "outputs": [
        {
          "output_type": "stream",
          "name": "stdout",
          "text": [
            "     Age  Gender  Protein1  Protein2  Protein3  Protein4 Tumour_Stage  \\\n",
            "0     42  FEMALE  0.952560   2.15000  0.007972 -0.048340           II   \n",
            "1     54  FEMALE  0.000000   1.38020 -0.498030 -0.507320           II   \n",
            "2     63  FEMALE -0.523030   1.76400 -0.370190  0.010815           II   \n",
            "3     78  FEMALE -0.876180   0.12943 -0.370380  0.132190            I   \n",
            "4     42  FEMALE  0.226110   1.74910 -0.543970 -0.390210           II   \n",
            "..   ...     ...       ...       ...       ...       ...          ...   \n",
            "329   59  FEMALE  0.024598   1.40050  0.024751  0.280320           II   \n",
            "330   41  FEMALE  0.100120  -0.46547  0.472370 -0.523870            I   \n",
            "331   54  FEMALE  0.753820   1.64250 -0.332850  0.857860           II   \n",
            "332   74  FEMALE  0.972510   1.42680 -0.366570 -0.107820           II   \n",
            "333   66  FEMALE  0.286380   1.39980  0.318830  0.836050           II   \n",
            "\n",
            "                          Histology  ER status  PR status  HER2 status  \\\n",
            "0     Infiltrating Ductal Carcinoma          1          1            0   \n",
            "1     Infiltrating Ductal Carcinoma          1          1            0   \n",
            "2     Infiltrating Ductal Carcinoma          1          1            0   \n",
            "3     Infiltrating Ductal Carcinoma          1          1            0   \n",
            "4     Infiltrating Ductal Carcinoma          1          1            1   \n",
            "..                              ...        ...        ...          ...   \n",
            "329   Infiltrating Ductal Carcinoma          1          1            1   \n",
            "330   Infiltrating Ductal Carcinoma          1          1            1   \n",
            "331   Infiltrating Ductal Carcinoma          1          1            0   \n",
            "332  Infiltrating Lobular Carcinoma          1          1            0   \n",
            "333   Infiltrating Ductal Carcinoma          1          1            0   \n",
            "\n",
            "                    Surgery_type  \n",
            "0                          Other  \n",
            "1                          Other  \n",
            "2                     Lumpectomy  \n",
            "3                          Other  \n",
            "4                     Lumpectomy  \n",
            "..                           ...  \n",
            "329                   Lumpectomy  \n",
            "330  Modified Radical Mastectomy  \n",
            "331            Simple Mastectomy  \n",
            "332                   Lumpectomy  \n",
            "333  Modified Radical Mastectomy  \n",
            "\n",
            "[334 rows x 12 columns]\n"
          ]
        }
      ]
    },
    {
      "cell_type": "code",
      "source": [
        "x=x.replace('FEMALE',1)\n",
        "x=x.replace('MALE',0)\n",
        "print(x)"
      ],
      "metadata": {
        "colab": {
          "base_uri": "https://localhost:8080/"
        },
        "id": "LuUYKAUA5AOt",
        "outputId": "5b5b815c-b8a0-47ea-c2e5-fea184f2f7ff"
      },
      "execution_count": 8,
      "outputs": [
        {
          "output_type": "stream",
          "name": "stdout",
          "text": [
            "     Age  Gender  Protein1  Protein2  Protein3  Protein4 Tumour_Stage  \\\n",
            "0     42       1  0.952560   2.15000  0.007972 -0.048340           II   \n",
            "1     54       1  0.000000   1.38020 -0.498030 -0.507320           II   \n",
            "2     63       1 -0.523030   1.76400 -0.370190  0.010815           II   \n",
            "3     78       1 -0.876180   0.12943 -0.370380  0.132190            I   \n",
            "4     42       1  0.226110   1.74910 -0.543970 -0.390210           II   \n",
            "..   ...     ...       ...       ...       ...       ...          ...   \n",
            "329   59       1  0.024598   1.40050  0.024751  0.280320           II   \n",
            "330   41       1  0.100120  -0.46547  0.472370 -0.523870            I   \n",
            "331   54       1  0.753820   1.64250 -0.332850  0.857860           II   \n",
            "332   74       1  0.972510   1.42680 -0.366570 -0.107820           II   \n",
            "333   66       1  0.286380   1.39980  0.318830  0.836050           II   \n",
            "\n",
            "                          Histology  ER status  PR status  HER2 status  \\\n",
            "0     Infiltrating Ductal Carcinoma          1          1            0   \n",
            "1     Infiltrating Ductal Carcinoma          1          1            0   \n",
            "2     Infiltrating Ductal Carcinoma          1          1            0   \n",
            "3     Infiltrating Ductal Carcinoma          1          1            0   \n",
            "4     Infiltrating Ductal Carcinoma          1          1            1   \n",
            "..                              ...        ...        ...          ...   \n",
            "329   Infiltrating Ductal Carcinoma          1          1            1   \n",
            "330   Infiltrating Ductal Carcinoma          1          1            1   \n",
            "331   Infiltrating Ductal Carcinoma          1          1            0   \n",
            "332  Infiltrating Lobular Carcinoma          1          1            0   \n",
            "333   Infiltrating Ductal Carcinoma          1          1            0   \n",
            "\n",
            "                    Surgery_type  \n",
            "0                          Other  \n",
            "1                          Other  \n",
            "2                     Lumpectomy  \n",
            "3                          Other  \n",
            "4                     Lumpectomy  \n",
            "..                           ...  \n",
            "329                   Lumpectomy  \n",
            "330  Modified Radical Mastectomy  \n",
            "331            Simple Mastectomy  \n",
            "332                   Lumpectomy  \n",
            "333  Modified Radical Mastectomy  \n",
            "\n",
            "[334 rows x 12 columns]\n"
          ]
        },
        {
          "output_type": "stream",
          "name": "stderr",
          "text": [
            "<ipython-input-8-1ec089d38045>:2: FutureWarning: Downcasting behavior in `replace` is deprecated and will be removed in a future version. To retain the old behavior, explicitly call `result.infer_objects(copy=False)`. To opt-in to the future behavior, set `pd.set_option('future.no_silent_downcasting', True)`\n",
            "  x=x.replace('MALE',0)\n"
          ]
        }
      ]
    },
    {
      "cell_type": "code",
      "source": [
        "x=x.replace('I',1.0)\n",
        "x=x.replace('II',0.0)\n",
        "x=x.replace('III',2.0)\n",
        "print(x)"
      ],
      "metadata": {
        "colab": {
          "base_uri": "https://localhost:8080/"
        },
        "id": "FwLaKqa05Aao",
        "outputId": "541d9c86-887f-4c0e-ddae-96982c9589eb"
      },
      "execution_count": 9,
      "outputs": [
        {
          "output_type": "stream",
          "name": "stdout",
          "text": [
            "     Age  Gender  Protein1  Protein2  Protein3  Protein4  Tumour_Stage  \\\n",
            "0     42       1  0.952560   2.15000  0.007972 -0.048340           0.0   \n",
            "1     54       1  0.000000   1.38020 -0.498030 -0.507320           0.0   \n",
            "2     63       1 -0.523030   1.76400 -0.370190  0.010815           0.0   \n",
            "3     78       1 -0.876180   0.12943 -0.370380  0.132190           1.0   \n",
            "4     42       1  0.226110   1.74910 -0.543970 -0.390210           0.0   \n",
            "..   ...     ...       ...       ...       ...       ...           ...   \n",
            "329   59       1  0.024598   1.40050  0.024751  0.280320           0.0   \n",
            "330   41       1  0.100120  -0.46547  0.472370 -0.523870           1.0   \n",
            "331   54       1  0.753820   1.64250 -0.332850  0.857860           0.0   \n",
            "332   74       1  0.972510   1.42680 -0.366570 -0.107820           0.0   \n",
            "333   66       1  0.286380   1.39980  0.318830  0.836050           0.0   \n",
            "\n",
            "                          Histology  ER status  PR status  HER2 status  \\\n",
            "0     Infiltrating Ductal Carcinoma          1          1            0   \n",
            "1     Infiltrating Ductal Carcinoma          1          1            0   \n",
            "2     Infiltrating Ductal Carcinoma          1          1            0   \n",
            "3     Infiltrating Ductal Carcinoma          1          1            0   \n",
            "4     Infiltrating Ductal Carcinoma          1          1            1   \n",
            "..                              ...        ...        ...          ...   \n",
            "329   Infiltrating Ductal Carcinoma          1          1            1   \n",
            "330   Infiltrating Ductal Carcinoma          1          1            1   \n",
            "331   Infiltrating Ductal Carcinoma          1          1            0   \n",
            "332  Infiltrating Lobular Carcinoma          1          1            0   \n",
            "333   Infiltrating Ductal Carcinoma          1          1            0   \n",
            "\n",
            "                    Surgery_type  \n",
            "0                          Other  \n",
            "1                          Other  \n",
            "2                     Lumpectomy  \n",
            "3                          Other  \n",
            "4                     Lumpectomy  \n",
            "..                           ...  \n",
            "329                   Lumpectomy  \n",
            "330  Modified Radical Mastectomy  \n",
            "331            Simple Mastectomy  \n",
            "332                   Lumpectomy  \n",
            "333  Modified Radical Mastectomy  \n",
            "\n",
            "[334 rows x 12 columns]\n"
          ]
        },
        {
          "output_type": "stream",
          "name": "stderr",
          "text": [
            "<ipython-input-9-0df0e29a517b>:3: FutureWarning: Downcasting behavior in `replace` is deprecated and will be removed in a future version. To retain the old behavior, explicitly call `result.infer_objects(copy=False)`. To opt-in to the future behavior, set `pd.set_option('future.no_silent_downcasting', True)`\n",
            "  x=x.replace('III',2.0)\n"
          ]
        }
      ]
    },
    {
      "cell_type": "code",
      "source": [
        "x=x.replace('Infiltrating Ductal Carcinoma',0)\n",
        "x=x.replace('Infiltrating Lobular Carcinoma',1)\n",
        "x=x.replace('Mucinous Carcinoma',2)\n",
        "print(x)"
      ],
      "metadata": {
        "colab": {
          "base_uri": "https://localhost:8080/"
        },
        "id": "csvWCJ-u5AeB",
        "outputId": "2254b500-3621-4eb9-fbb9-58312eda59af"
      },
      "execution_count": 10,
      "outputs": [
        {
          "output_type": "stream",
          "name": "stdout",
          "text": [
            "     Age  Gender  Protein1  Protein2  Protein3  Protein4  Tumour_Stage  \\\n",
            "0     42       1  0.952560   2.15000  0.007972 -0.048340           0.0   \n",
            "1     54       1  0.000000   1.38020 -0.498030 -0.507320           0.0   \n",
            "2     63       1 -0.523030   1.76400 -0.370190  0.010815           0.0   \n",
            "3     78       1 -0.876180   0.12943 -0.370380  0.132190           1.0   \n",
            "4     42       1  0.226110   1.74910 -0.543970 -0.390210           0.0   \n",
            "..   ...     ...       ...       ...       ...       ...           ...   \n",
            "329   59       1  0.024598   1.40050  0.024751  0.280320           0.0   \n",
            "330   41       1  0.100120  -0.46547  0.472370 -0.523870           1.0   \n",
            "331   54       1  0.753820   1.64250 -0.332850  0.857860           0.0   \n",
            "332   74       1  0.972510   1.42680 -0.366570 -0.107820           0.0   \n",
            "333   66       1  0.286380   1.39980  0.318830  0.836050           0.0   \n",
            "\n",
            "     Histology  ER status  PR status  HER2 status                 Surgery_type  \n",
            "0            0          1          1            0                        Other  \n",
            "1            0          1          1            0                        Other  \n",
            "2            0          1          1            0                   Lumpectomy  \n",
            "3            0          1          1            0                        Other  \n",
            "4            0          1          1            1                   Lumpectomy  \n",
            "..         ...        ...        ...          ...                          ...  \n",
            "329          0          1          1            1                   Lumpectomy  \n",
            "330          0          1          1            1  Modified Radical Mastectomy  \n",
            "331          0          1          1            0            Simple Mastectomy  \n",
            "332          1          1          1            0                   Lumpectomy  \n",
            "333          0          1          1            0  Modified Radical Mastectomy  \n",
            "\n",
            "[334 rows x 12 columns]\n"
          ]
        },
        {
          "output_type": "stream",
          "name": "stderr",
          "text": [
            "<ipython-input-10-2e698e3420b8>:3: FutureWarning: Downcasting behavior in `replace` is deprecated and will be removed in a future version. To retain the old behavior, explicitly call `result.infer_objects(copy=False)`. To opt-in to the future behavior, set `pd.set_option('future.no_silent_downcasting', True)`\n",
            "  x=x.replace('Mucinous Carcinoma',2)\n"
          ]
        }
      ]
    },
    {
      "cell_type": "code",
      "source": [
        "x=x.replace('Other',0)\n",
        "x=x.replace('Lumpectomy',1)\n",
        "x=x.replace('Modified Radical Mastectomy',2)\n",
        "x=x.replace('Simple Mastectomy',3)\n",
        "print(x)"
      ],
      "metadata": {
        "colab": {
          "base_uri": "https://localhost:8080/"
        },
        "id": "4OJFdrgT5JMj",
        "outputId": "6081ffc4-462f-4953-d8ef-16e55ef2912b"
      },
      "execution_count": 11,
      "outputs": [
        {
          "output_type": "stream",
          "name": "stdout",
          "text": [
            "     Age  Gender  Protein1  Protein2  Protein3  Protein4  Tumour_Stage  \\\n",
            "0     42       1  0.952560   2.15000  0.007972 -0.048340           0.0   \n",
            "1     54       1  0.000000   1.38020 -0.498030 -0.507320           0.0   \n",
            "2     63       1 -0.523030   1.76400 -0.370190  0.010815           0.0   \n",
            "3     78       1 -0.876180   0.12943 -0.370380  0.132190           1.0   \n",
            "4     42       1  0.226110   1.74910 -0.543970 -0.390210           0.0   \n",
            "..   ...     ...       ...       ...       ...       ...           ...   \n",
            "329   59       1  0.024598   1.40050  0.024751  0.280320           0.0   \n",
            "330   41       1  0.100120  -0.46547  0.472370 -0.523870           1.0   \n",
            "331   54       1  0.753820   1.64250 -0.332850  0.857860           0.0   \n",
            "332   74       1  0.972510   1.42680 -0.366570 -0.107820           0.0   \n",
            "333   66       1  0.286380   1.39980  0.318830  0.836050           0.0   \n",
            "\n",
            "     Histology  ER status  PR status  HER2 status  Surgery_type  \n",
            "0            0          1          1            0             0  \n",
            "1            0          1          1            0             0  \n",
            "2            0          1          1            0             1  \n",
            "3            0          1          1            0             0  \n",
            "4            0          1          1            1             1  \n",
            "..         ...        ...        ...          ...           ...  \n",
            "329          0          1          1            1             1  \n",
            "330          0          1          1            1             2  \n",
            "331          0          1          1            0             3  \n",
            "332          1          1          1            0             1  \n",
            "333          0          1          1            0             2  \n",
            "\n",
            "[334 rows x 12 columns]\n"
          ]
        },
        {
          "output_type": "stream",
          "name": "stderr",
          "text": [
            "<ipython-input-11-3953fd5d6d31>:4: FutureWarning: Downcasting behavior in `replace` is deprecated and will be removed in a future version. To retain the old behavior, explicitly call `result.infer_objects(copy=False)`. To opt-in to the future behavior, set `pd.set_option('future.no_silent_downcasting', True)`\n",
            "  x=x.replace('Simple Mastectomy',3)\n"
          ]
        }
      ]
    },
    {
      "cell_type": "code",
      "source": [
        "x = (x - x.min()) / (x.max() - x.min())\n",
        "x.fillna(0, inplace=True)\n",
        "y.fillna(0, inplace=True)\n",
        "print(\"Normalized Features:\", x)\n",
        "print(\"Normalized Features:\", y)"
      ],
      "metadata": {
        "colab": {
          "base_uri": "https://localhost:8080/"
        },
        "id": "Ym5rK0yd5JP8",
        "outputId": "5411c920-d61e-48b2-8c9f-4c30c0ced062"
      },
      "execution_count": 12,
      "outputs": [
        {
          "output_type": "stream",
          "name": "stdout",
          "text": [
            "Normalized Features:           Age  Gender  Protein1  Protein2  Protein3  Protein4  Tumour_Stage  \\\n",
            "0    0.213115     1.0  0.837072  0.714170  0.428018  0.540887           0.0   \n",
            "1    0.409836     1.0  0.594968  0.538454  0.295585  0.415325           0.0   \n",
            "2    0.557377     1.0  0.462033  0.626061  0.329044  0.557070           0.0   \n",
            "3    0.803279     1.0  0.372276  0.252951  0.328994  0.590275           0.5   \n",
            "4    0.213115     1.0  0.652436  0.622660  0.283561  0.447363           0.0   \n",
            "..        ...     ...       ...       ...       ...       ...           ...   \n",
            "329  0.491803     1.0  0.601219  0.543088  0.432410  0.630798           0.0   \n",
            "330  0.196721     1.0  0.620414  0.117158  0.549563  0.410798           0.5   \n",
            "331  0.409836     1.0  0.786560  0.598327  0.338816  0.788795           0.0   \n",
            "332  0.737705     1.0  0.842143  0.549091  0.329991  0.524616           0.0   \n",
            "333  0.606557     1.0  0.667754  0.542928  0.509378  0.782828           0.0   \n",
            "\n",
            "     Histology  ER status  PR status  HER2 status  Surgery_type  \n",
            "0          0.0        0.0        0.0          0.0      0.000000  \n",
            "1          0.0        0.0        0.0          0.0      0.000000  \n",
            "2          0.0        0.0        0.0          0.0      0.333333  \n",
            "3          0.0        0.0        0.0          0.0      0.000000  \n",
            "4          0.0        0.0        0.0          1.0      0.333333  \n",
            "..         ...        ...        ...          ...           ...  \n",
            "329        0.0        0.0        0.0          1.0      0.333333  \n",
            "330        0.0        0.0        0.0          1.0      0.666667  \n",
            "331        0.0        0.0        0.0          0.0      1.000000  \n",
            "332        0.5        0.0        0.0          0.0      0.333333  \n",
            "333        0.0        0.0        0.0          0.0      0.666667  \n",
            "\n",
            "[334 rows x 12 columns]\n",
            "Normalized Features: 0      1.0\n",
            "1      0.0\n",
            "2      1.0\n",
            "3      1.0\n",
            "4      1.0\n",
            "      ... \n",
            "329    1.0\n",
            "330    1.0\n",
            "331    0.0\n",
            "332    1.0\n",
            "333    0.0\n",
            "Name: Patient_Status, Length: 334, dtype: float64\n"
          ]
        }
      ]
    },
    {
      "cell_type": "code",
      "source": [
        "x = (x - x.min()) / (x.max() - x.min())\n",
        "y.fillna(0, inplace=True)\n",
        "x.fillna(0, inplace=True)\n",
        "print(x)\n",
        "print(y)"
      ],
      "metadata": {
        "colab": {
          "base_uri": "https://localhost:8080/"
        },
        "id": "9XWYE_Sm5Pca",
        "outputId": "3210ee2b-5de6-4b42-fc32-273e04157519"
      },
      "execution_count": 13,
      "outputs": [
        {
          "output_type": "stream",
          "name": "stdout",
          "text": [
            "          Age  Gender  Protein1  Protein2  Protein3  Protein4  Tumour_Stage  \\\n",
            "0    0.213115     1.0  0.837072  0.714170  0.428018  0.540887           0.0   \n",
            "1    0.409836     1.0  0.594968  0.538454  0.295585  0.415325           0.0   \n",
            "2    0.557377     1.0  0.462033  0.626061  0.329044  0.557070           0.0   \n",
            "3    0.803279     1.0  0.372276  0.252951  0.328994  0.590275           0.5   \n",
            "4    0.213115     1.0  0.652436  0.622660  0.283561  0.447363           0.0   \n",
            "..        ...     ...       ...       ...       ...       ...           ...   \n",
            "329  0.491803     1.0  0.601219  0.543088  0.432410  0.630798           0.0   \n",
            "330  0.196721     1.0  0.620414  0.117158  0.549563  0.410798           0.5   \n",
            "331  0.409836     1.0  0.786560  0.598327  0.338816  0.788795           0.0   \n",
            "332  0.737705     1.0  0.842143  0.549091  0.329991  0.524616           0.0   \n",
            "333  0.606557     1.0  0.667754  0.542928  0.509378  0.782828           0.0   \n",
            "\n",
            "     Histology  ER status  PR status  HER2 status  Surgery_type  \n",
            "0          0.0        0.0        0.0          0.0      0.000000  \n",
            "1          0.0        0.0        0.0          0.0      0.000000  \n",
            "2          0.0        0.0        0.0          0.0      0.333333  \n",
            "3          0.0        0.0        0.0          0.0      0.000000  \n",
            "4          0.0        0.0        0.0          1.0      0.333333  \n",
            "..         ...        ...        ...          ...           ...  \n",
            "329        0.0        0.0        0.0          1.0      0.333333  \n",
            "330        0.0        0.0        0.0          1.0      0.666667  \n",
            "331        0.0        0.0        0.0          0.0      1.000000  \n",
            "332        0.5        0.0        0.0          0.0      0.333333  \n",
            "333        0.0        0.0        0.0          0.0      0.666667  \n",
            "\n",
            "[334 rows x 12 columns]\n",
            "0      1.0\n",
            "1      0.0\n",
            "2      1.0\n",
            "3      1.0\n",
            "4      1.0\n",
            "      ... \n",
            "329    1.0\n",
            "330    1.0\n",
            "331    0.0\n",
            "332    1.0\n",
            "333    0.0\n",
            "Name: Patient_Status, Length: 334, dtype: float64\n"
          ]
        }
      ]
    },
    {
      "cell_type": "code",
      "source": [
        "from sklearn.model_selection import train_test_split\n",
        "x_train,x_test,y_train,y_test=train_test_split(x,y,test_size=0.3,random_state=42)"
      ],
      "metadata": {
        "id": "4vvk0Zau5TTS"
      },
      "execution_count": 14,
      "outputs": []
    },
    {
      "cell_type": "code",
      "source": [
        "import numpy as np\n",
        "import matplotlib.pyplot as plt\n",
        "from sklearn.model_selection import train_test_split\n",
        "from sklearn.svm import SVC\n",
        "from sklearn.neighbors import KNeighborsClassifier\n",
        "from sklearn.linear_model import LogisticRegression\n",
        "from sklearn.metrics import accuracy_score\n",
        "from sklearn.decomposition import PCA"
      ],
      "metadata": {
        "id": "1g7RjR8k5Xyk"
      },
      "execution_count": 15,
      "outputs": []
    },
    {
      "cell_type": "code",
      "source": [
        "svm_model = SVC()\n",
        "svm_model.fit(x_train, y_train)\n",
        "svm_pred = svm_model.predict(x_test)\n",
        "svm_accuracy = accuracy_score(y_test, svm_pred)\n",
        "print(f\"SVM Accuracy: {svm_accuracy}\")"
      ],
      "metadata": {
        "colab": {
          "base_uri": "https://localhost:8080/"
        },
        "id": "n_qC92oJ5vsL",
        "outputId": "1bfcdd50-db92-453c-f4bb-cdaf9ddadc2c"
      },
      "execution_count": 17,
      "outputs": [
        {
          "output_type": "stream",
          "name": "stdout",
          "text": [
            "SVM Accuracy: 0.7821782178217822\n"
          ]
        }
      ]
    },
    {
      "cell_type": "code",
      "source": [
        "lr_model = LogisticRegression()\n",
        "lr_model.fit(x_train, y_train)\n",
        "lr_pred = lr_model.predict(x_test)\n",
        "lr_accuracy = accuracy_score(y_test, lr_pred)\n",
        "print(f\"Logistic Regression Accuracy: {lr_accuracy}\")"
      ],
      "metadata": {
        "colab": {
          "base_uri": "https://localhost:8080/"
        },
        "id": "N-PwMTcY5vvk",
        "outputId": "8c500885-a8b0-45f4-dfb3-3f46fe627b26"
      },
      "execution_count": 18,
      "outputs": [
        {
          "output_type": "stream",
          "name": "stdout",
          "text": [
            "Logistic Regression Accuracy: 0.7821782178217822\n"
          ]
        }
      ]
    },
    {
      "cell_type": "code",
      "source": [
        "knn_model = KNeighborsClassifier()\n",
        "knn_model.fit(x_train, y_train)\n",
        "knn_pred = knn_model.predict(x_test)\n",
        "knn_accuracy = accuracy_score(y_test, knn_pred)\n",
        "print(f\"KNN Accuracy: {knn_accuracy}\")"
      ],
      "metadata": {
        "colab": {
          "base_uri": "https://localhost:8080/"
        },
        "id": "yLAS0mZD55gz",
        "outputId": "a70aedb1-59c6-4858-f5d8-19e707db6fe7"
      },
      "execution_count": 19,
      "outputs": [
        {
          "output_type": "stream",
          "name": "stdout",
          "text": [
            "KNN Accuracy: 0.7425742574257426\n"
          ]
        }
      ]
    },
    {
      "cell_type": "code",
      "source": [
        "def bootstrap_accuracy(model, x, y, n_iterations=1000):\n",
        "    accuracies = []\n",
        "    for _ in range(n_iterations):\n",
        "        indices = np.random.choice(len(x), size=len(x), replace=True)\n",
        "        x_sample = x.iloc[indices]\n",
        "        y_sample = y.iloc[indices]\n",
        "        model.fit(x_sample, y_sample)\n",
        "        predictions = model.predict(x_test)\n",
        "        accuracy = accuracy_score(y_test, predictions)\n",
        "        accuracies.append(accuracy)\n",
        "    return accuracies"
      ],
      "metadata": {
        "id": "aL87zNe66dig"
      },
      "execution_count": 23,
      "outputs": []
    },
    {
      "cell_type": "code",
      "source": [
        "svm_bootstrap_accuracies = bootstrap_accuracy(SVC(), x_train, y_train)\n",
        "plt.figure(figsize=(8, 6))\n",
        "plt.hist(svm_bootstrap_accuracies, bins=30, alpha=0.7, color='blue', label='SVM')\n",
        "plt.title('Bootstrapped Accuracy Distribution (SVM)')\n",
        "plt.xlabel('Accuracy')\n",
        "plt.ylabel('Frequency')\n",
        "plt.legend()\n",
        "plt.show()\n"
      ],
      "metadata": {
        "colab": {
          "base_uri": "https://localhost:8080/",
          "height": 564
        },
        "id": "1LJW6ifk6hYS",
        "outputId": "a4485b77-e2b7-43d5-d1ce-fc9e7337b778"
      },
      "execution_count": 24,
      "outputs": [
        {
          "output_type": "display_data",
          "data": {
            "text/plain": [
              "<Figure size 800x600 with 1 Axes>"
            ],
            "image/png": "[encoded data removed]"
          },
          "metadata": {}
        }
      ]
    },
    {
      "cell_type": "code",
      "source": [
        "knn_bootstrap_accuracies = bootstrap_accuracy(KNeighborsClassifier(), x_train, y_train)\n",
        "plt.figure(figsize=(8, 6))\n",
        "plt.hist(knn_bootstrap_accuracies, bins=30, alpha=0.7, color='green', label='KNN')\n",
        "plt.title('Bootstrapped Accuracy Distribution (KNN)')\n",
        "plt.xlabel('Accuracy')\n",
        "plt.ylabel('Frequency')\n",
        "plt.legend()\n",
        "plt.show()"
      ],
      "metadata": {
        "colab": {
          "base_uri": "https://localhost:8080/",
          "height": 564
        },
        "id": "cUKkMNDi6j0u",
        "outputId": "35560ba0-93a5-492c-95e6-0291dc4b70d8"
      },
      "execution_count": 25,
      "outputs": [
        {
          "output_type": "display_data",
          "data": {
            "text/plain": [
              "<Figure size 800x600 with 1 Axes>"
            ],
            "image/png": "[encoded data removed]"
          },
          "metadata": {}
        }
      ]
    },
    {
      "cell_type": "code",
      "source": [
        "lr_bootstrap_accuracies = bootstrap_accuracy(LogisticRegression(), x_train, y_train)\n",
        "plt.figure(figsize=(8, 6))\n",
        "plt.hist(lr_bootstrap_accuracies, bins=30, alpha=0.7, color='red', label='Logistic Regression')\n",
        "plt.title('Bootstrapped Accuracy Distribution (Logistic Regression)')\n",
        "plt.xlabel('Accuracy')\n",
        "plt.ylabel('Frequency')\n",
        "plt.legend()\n",
        "plt.show()"
      ],
      "metadata": {
        "colab": {
          "base_uri": "https://localhost:8080/",
          "height": 564
        },
        "id": "qPx9x5qp6mcT",
        "outputId": "3faa9cf4-7e0a-498d-d298-3089e6e0ff4a"
      },
      "execution_count": 26,
      "outputs": [
        {
          "output_type": "display_data",
          "data": {
            "text/plain": [
              "<Figure size 800x600 with 1 Axes>"
            ],
            "image/png": "[encoded data removed]"
          },
          "metadata": {}
        }
      ]
    }
  ]
}
