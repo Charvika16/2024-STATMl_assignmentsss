{
  "nbformat": 4,
  "nbformat_minor": 0,
  "metadata": {
    "colab": {
      "provenance": [],
      "include_colab_link": true
    },
    "kernelspec": {
      "name": "python3",
      "display_name": "Python 3"
    },
    "language_info": {
      "name": "python"
    }
  },
  "cells": [
    {
      "cell_type": "markdown",
      "metadata": {
        "id": "view-in-github",
        "colab_type": "text"
      },
      "source": [
        "<a href=\"https://colab.research.google.com/github/Charvika16/2024-STATMl_assignmentsss/blob/main/STMLAssignment_6.ipynb\" target=\"_parent\"><img src=\"https://colab.research.google.com/assets/colab-badge.svg\" alt=\"Open In Colab\"/></a>"
      ]
    },
    {
      "cell_type": "markdown",
      "source": [
        "## 1. Student Data"
      ],
      "metadata": {
        "id": "YBbuHsvOfHvj"
      }
    },
    {
      "cell_type": "code",
      "execution_count": 2,
      "metadata": {
        "id": "kSgHHnDRbaxy"
      },
      "outputs": [],
      "source": [
        "import pandas as pd\n",
        "import numpy as np"
      ]
    },
    {
      "cell_type": "code",
      "source": [
        "A = pd.read_csv('/content/Student_data.csv')\n",
        "print(A)"
      ],
      "metadata": {
        "colab": {
          "base_uri": "https://localhost:8080/"
        },
        "id": "p2YuGZ2Eegrz",
        "outputId": "ae5648a5-5a52-4d56-9b5a-57b42d357d89"
      },
      "execution_count": 3,
      "outputs": [
        {
          "output_type": "stream",
          "name": "stdout",
          "text": [
            "   Study Hours per Week  Class Attendance (%)  Previous Exam Score (%)  \\\n",
            "0                    10                    90                       85   \n",
            "1                     5                    60                       70   \n",
            "2                    15                    95                       90   \n",
            "3                     2                    30                       50   \n",
            "4                    12                    85                       88   \n",
            "5                     8                    75                       65   \n",
            "6                    14                    92                       93   \n",
            "7                     3                    50                       55   \n",
            "8                    11                    88                       80   \n",
            "9                     6                    65                       60   \n",
            "\n",
            "   Participation in Group Study  Submission of Assignments (%)  Pass/Fail  \n",
            "0                             1                            100          1  \n",
            "1                             0                             80          0  \n",
            "2                             1                            100          1  \n",
            "3                             0                             40          0  \n",
            "4                             1                             90          1  \n",
            "5                             0                             70          0  \n",
            "6                             1                             95          1  \n",
            "7                             0                             60          0  \n",
            "8                             1                             85          1  \n",
            "9                             0                             75          0  \n"
          ]
        }
      ]
    },
    {
      "cell_type": "markdown",
      "source": [],
      "metadata": {
        "id": "nacNEgnoxns_"
      }
    },
    {
      "cell_type": "code",
      "source": [
        "y = A['Pass/Fail']\n",
        "x = A.drop('Pass/Fail', axis=1)\n",
        "print(\"Features:\", X)\n",
        "print(\"Target:\", y)\n",
        "# Normalize the data\n",
        "x = (x - x.min()) / (x.max() - x.min())\n",
        "x.fillna(0, inplace=True)\n",
        "print(\"Normalized Features:\", x)"
      ],
      "metadata": {
        "colab": {
          "base_uri": "https://localhost:8080/"
        },
        "id": "L7rEkw9Deuuf",
        "outputId": "a2bc17c8-c4c7-45a9-9d6e-96be4244b645"
      },
      "execution_count": 7,
      "outputs": [
        {
          "output_type": "stream",
          "name": "stdout",
          "text": [
            "Features:    Study Hours per Week  Class Attendance (%)  Previous Exam Score (%)  \\\n",
            "0              0.615385              0.923077                 0.813953   \n",
            "1              0.230769              0.461538                 0.465116   \n",
            "2              1.000000              1.000000                 0.930233   \n",
            "3              0.000000              0.000000                 0.000000   \n",
            "4              0.769231              0.846154                 0.883721   \n",
            "5              0.461538              0.692308                 0.348837   \n",
            "6              0.923077              0.953846                 1.000000   \n",
            "7              0.076923              0.307692                 0.116279   \n",
            "8              0.692308              0.892308                 0.697674   \n",
            "9              0.307692              0.538462                 0.232558   \n",
            "\n",
            "   Participation in Group Study  Submission of Assignments (%)  \n",
            "0                           1.0                       1.000000  \n",
            "1                           0.0                       0.666667  \n",
            "2                           1.0                       1.000000  \n",
            "3                           0.0                       0.000000  \n",
            "4                           1.0                       0.833333  \n",
            "5                           0.0                       0.500000  \n",
            "6                           1.0                       0.916667  \n",
            "7                           0.0                       0.333333  \n",
            "8                           1.0                       0.750000  \n",
            "9                           0.0                       0.583333  \n",
            "Target: 0    1\n",
            "1    0\n",
            "2    1\n",
            "3    0\n",
            "4    1\n",
            "5    0\n",
            "6    1\n",
            "7    0\n",
            "8    1\n",
            "9    0\n",
            "Name: Pass/Fail, dtype: int64\n",
            "Normalized Features:    Study Hours per Week  Class Attendance (%)  Previous Exam Score (%)  \\\n",
            "0              0.615385              0.923077                 0.813953   \n",
            "1              0.230769              0.461538                 0.465116   \n",
            "2              1.000000              1.000000                 0.930233   \n",
            "3              0.000000              0.000000                 0.000000   \n",
            "4              0.769231              0.846154                 0.883721   \n",
            "5              0.461538              0.692308                 0.348837   \n",
            "6              0.923077              0.953846                 1.000000   \n",
            "7              0.076923              0.307692                 0.116279   \n",
            "8              0.692308              0.892308                 0.697674   \n",
            "9              0.307692              0.538462                 0.232558   \n",
            "\n",
            "   Participation in Group Study  Submission of Assignments (%)  \n",
            "0                           1.0                       1.000000  \n",
            "1                           0.0                       0.666667  \n",
            "2                           1.0                       1.000000  \n",
            "3                           0.0                       0.000000  \n",
            "4                           1.0                       0.833333  \n",
            "5                           0.0                       0.500000  \n",
            "6                           1.0                       0.916667  \n",
            "7                           0.0                       0.333333  \n",
            "8                           1.0                       0.750000  \n",
            "9                           0.0                       0.583333  \n"
          ]
        }
      ]
    },
    {
      "cell_type": "code",
      "source": [
        "def initialize_parameters(n_features):\n",
        "      weights = np.zeros(n_features)\n",
        "      bias = 0\n",
        "      learning_rate = 0.01\n",
        "      return weights, bias, learning_rate\n",
        "n_features = x.shape[1]\n",
        "weights, bias, learning_rate = initialize_parameters(n_features)"
      ],
      "metadata": {
        "id": "P6BdsIWJ-3Pk"
      },
      "execution_count": 8,
      "outputs": []
    },
    {
      "cell_type": "code",
      "source": [
        "def perceptron_train(X, y, weights, bias, learning_rate, epochs):\n",
        "  for epoch in range(epochs):\n",
        "    for i in range(len(y)):\n",
        "      linear_output = np.dot(X.iloc[i], weights) + bias\n",
        "      prediction = 1 if linear_output >= 0 else 0\n",
        "      error = y.iloc[i] - prediction\n",
        "      weights += learning_rate * error * X.iloc[i]\n",
        "    if epoch % 100 == 0:\n",
        "      print(f'Epoch {epoch}: Weights: {weights}, Bias: {bias}')\n",
        "    return weights, bias\n",
        "epochs = 1000\n",
        "weights, bias = perceptron_train(X, y, weights, bias, learning_rate, epochs)\n",
        "\n",
        "print(\"Trained Weights:\", weights)"
      ],
      "metadata": {
        "colab": {
          "base_uri": "https://localhost:8080/"
        },
        "id": "YEg3zQPJ_L3Q",
        "outputId": "fd14071d-1735-42a8-d66a-aeb5d10e25fd"
      },
      "execution_count": 9,
      "outputs": [
        {
          "output_type": "stream",
          "name": "stdout",
          "text": [
            "Epoch 0: Weights: Study Hours per Week             0.003077\n",
            "Class Attendance (%)            -0.001538\n",
            "Previous Exam Score (%)          0.001163\n",
            "Participation in Group Study     0.010000\n",
            "Submission of Assignments (%)   -0.001667\n",
            "Name: 0, dtype: float64, Bias: 0\n",
            "Trained Weights: Study Hours per Week             0.003077\n",
            "Class Attendance (%)            -0.001538\n",
            "Previous Exam Score (%)          0.001163\n",
            "Participation in Group Study     0.010000\n",
            "Submission of Assignments (%)   -0.001667\n",
            "Name: 0, dtype: float64\n"
          ]
        }
      ]
    },
    {
      "cell_type": "code",
      "source": [
        "def predict(X, weights, bias):\n",
        "  linear_output = np.dot(X, weights) + bias\n",
        "  return (linear_output >= 0).astype(int)\n",
        "predictions = predict(X, weights, bias)\n",
        "accuracy = np.mean(predictions == y) * 100\n",
        "\n",
        "print(\"Predictions:\", predictions)\n",
        "print(y.values)\n",
        "print(\"\\nAccuracy: {:.2f}%\".format(accuracy))\n",
        "print(weights)"
      ],
      "metadata": {
        "colab": {
          "base_uri": "https://localhost:8080/"
        },
        "id": "bDuVb6EsAN01",
        "outputId": "8a8506bd-9873-4850-9f08-754444e96c0d"
      },
      "execution_count": null,
      "outputs": [
        {
          "output_type": "stream",
          "name": "stdout",
          "text": [
            "Predictions: [1 0 1 1 1 0 1 0 1 0]\n",
            "[1 0 1 0 1 0 1 0 1 0]\n",
            "\n",
            "Accuracy: 90.00%\n",
            "Study Hours per Week             0.003077\n",
            "Class Attendance (%)            -0.001538\n",
            "Previous Exam Score (%)          0.001163\n",
            "Participation in Group Study     0.010000\n",
            "Submission of Assignments (%)   -0.001667\n",
            "Name: 0, dtype: float64\n"
          ]
        }
      ]
    },
    {
      "cell_type": "markdown",
      "source": [
        "## 2. Diabetes"
      ],
      "metadata": {
        "id": "HSnKlNODe9rS"
      }
    },
    {
      "cell_type": "code",
      "source": [
        "a = pd.read_csv('//content/diabetes_data_upload (1).csv')\n",
        "print(a)"
      ],
      "metadata": {
        "colab": {
          "base_uri": "https://localhost:8080/"
        },
        "id": "K0gF6wlUXF3Y",
        "outputId": "2653a9db-10ee-453a-e134-866e2ebbc55d"
      },
      "execution_count": 15,
      "outputs": [
        {
          "output_type": "stream",
          "name": "stdout",
          "text": [
            "     Age  Gender Polyuria Polydipsia sudden weight loss weakness Polyphagia  \\\n",
            "0     40    Male       No        Yes                 No      Yes         No   \n",
            "1     58    Male       No         No                 No      Yes         No   \n",
            "2     41    Male      Yes         No                 No      Yes        Yes   \n",
            "3     45    Male       No         No                Yes      Yes        Yes   \n",
            "4     60    Male      Yes        Yes                Yes      Yes        Yes   \n",
            "..   ...     ...      ...        ...                ...      ...        ...   \n",
            "515   39  Female      Yes        Yes                Yes       No        Yes   \n",
            "516   48  Female      Yes        Yes                Yes      Yes        Yes   \n",
            "517   58  Female      Yes        Yes                Yes      Yes        Yes   \n",
            "518   32  Female       No         No                 No      Yes         No   \n",
            "519   42    Male       No         No                 No       No         No   \n",
            "\n",
            "    Genital thrush visual blurring Itching Irritability delayed healing  \\\n",
            "0               No              No     Yes           No             Yes   \n",
            "1               No             Yes      No           No              No   \n",
            "2               No              No     Yes           No             Yes   \n",
            "3              Yes              No     Yes           No             Yes   \n",
            "4               No             Yes     Yes          Yes             Yes   \n",
            "..             ...             ...     ...          ...             ...   \n",
            "515             No              No     Yes           No             Yes   \n",
            "516             No              No     Yes          Yes             Yes   \n",
            "517             No             Yes      No           No              No   \n",
            "518             No             Yes     Yes           No             Yes   \n",
            "519             No              No      No           No              No   \n",
            "\n",
            "    partial paresis muscle stiffness Alopecia Obesity     class  \n",
            "0                No              Yes      Yes     Yes  Positive  \n",
            "1               Yes               No      Yes      No  Positive  \n",
            "2                No              Yes      Yes      No  Positive  \n",
            "3                No               No       No      No  Positive  \n",
            "4               Yes              Yes      Yes     Yes  Positive  \n",
            "..              ...              ...      ...     ...       ...  \n",
            "515             Yes               No       No      No  Positive  \n",
            "516             Yes               No       No      No  Positive  \n",
            "517             Yes              Yes       No     Yes  Positive  \n",
            "518              No               No      Yes      No  Negative  \n",
            "519              No               No       No      No  Negative  \n",
            "\n",
            "[520 rows x 17 columns]\n"
          ]
        }
      ]
    },
    {
      "cell_type": "code",
      "source": [
        "y=a['class']\n",
        "print(y)"
      ],
      "metadata": {
        "colab": {
          "base_uri": "https://localhost:8080/"
        },
        "id": "ADCLeg_zZ44_",
        "outputId": "51a05959-cc77-4762-c65d-703accd9c265"
      },
      "execution_count": 16,
      "outputs": [
        {
          "output_type": "stream",
          "name": "stdout",
          "text": [
            "0      Positive\n",
            "1      Positive\n",
            "2      Positive\n",
            "3      Positive\n",
            "4      Positive\n",
            "         ...   \n",
            "515    Positive\n",
            "516    Positive\n",
            "517    Positive\n",
            "518    Negative\n",
            "519    Negative\n",
            "Name: class, Length: 520, dtype: object\n"
          ]
        }
      ]
    },
    {
      "cell_type": "code",
      "source": [
        "mapping={'Positive':1,'Negative':0}\n",
        "y=y.map(mapping)\n",
        "print(y)"
      ],
      "metadata": {
        "colab": {
          "base_uri": "https://localhost:8080/"
        },
        "id": "yVviSc0ybWy5",
        "outputId": "35eb7f07-afbf-4b31-f5ea-0e209113eee3"
      },
      "execution_count": 17,
      "outputs": [
        {
          "output_type": "stream",
          "name": "stdout",
          "text": [
            "0      1\n",
            "1      1\n",
            "2      1\n",
            "3      1\n",
            "4      1\n",
            "      ..\n",
            "515    1\n",
            "516    1\n",
            "517    1\n",
            "518    0\n",
            "519    0\n",
            "Name: class, Length: 520, dtype: int64\n"
          ]
        }
      ]
    },
    {
      "cell_type": "code",
      "source": [],
      "metadata": {
        "id": "YJt5jVwvWizc",
        "outputId": "b2fa117a-857d-4b1f-a2f9-ea200cdbc920",
        "colab": {
          "base_uri": "https://localhost:8080/",
          "height": 547
        }
      },
      "execution_count": 18,
      "outputs": [
        {
          "output_type": "error",
          "ename": "KeyError",
          "evalue": "'Gender'",
          "traceback": [
            "\u001b[0;31m---------------------------------------------------------------------------\u001b[0m",
            "\u001b[0;31mKeyError\u001b[0m                                  Traceback (most recent call last)",
            "\u001b[0;32m/usr/local/lib/python3.10/dist-packages/pandas/core/indexes/base.py\u001b[0m in \u001b[0;36mget_loc\u001b[0;34m(self, key)\u001b[0m\n\u001b[1;32m   3790\u001b[0m         \u001b[0;32mtry\u001b[0m\u001b[0;34m:\u001b[0m\u001b[0;34m\u001b[0m\u001b[0;34m\u001b[0m\u001b[0m\n\u001b[0;32m-> 3791\u001b[0;31m             \u001b[0;32mreturn\u001b[0m \u001b[0mself\u001b[0m\u001b[0;34m.\u001b[0m\u001b[0m_engine\u001b[0m\u001b[0;34m.\u001b[0m\u001b[0mget_loc\u001b[0m\u001b[0;34m(\u001b[0m\u001b[0mcasted_key\u001b[0m\u001b[0;34m)\u001b[0m\u001b[0;34m\u001b[0m\u001b[0;34m\u001b[0m\u001b[0m\n\u001b[0m\u001b[1;32m   3792\u001b[0m         \u001b[0;32mexcept\u001b[0m \u001b[0mKeyError\u001b[0m \u001b[0;32mas\u001b[0m \u001b[0merr\u001b[0m\u001b[0;34m:\u001b[0m\u001b[0;34m\u001b[0m\u001b[0;34m\u001b[0m\u001b[0m\n",
            "\u001b[0;32mindex.pyx\u001b[0m in \u001b[0;36mpandas._libs.index.IndexEngine.get_loc\u001b[0;34m()\u001b[0m\n",
            "\u001b[0;32mindex.pyx\u001b[0m in \u001b[0;36mpandas._libs.index.IndexEngine.get_loc\u001b[0;34m()\u001b[0m\n",
            "\u001b[0;32mpandas/_libs/hashtable_class_helper.pxi\u001b[0m in \u001b[0;36mpandas._libs.hashtable.PyObjectHashTable.get_item\u001b[0;34m()\u001b[0m\n",
            "\u001b[0;32mpandas/_libs/hashtable_class_helper.pxi\u001b[0m in \u001b[0;36mpandas._libs.hashtable.PyObjectHashTable.get_item\u001b[0;34m()\u001b[0m\n",
            "\u001b[0;31mKeyError\u001b[0m: 'Gender'",
            "\nThe above exception was the direct cause of the following exception:\n",
            "\u001b[0;31mKeyError\u001b[0m                                  Traceback (most recent call last)",
            "\u001b[0;32m<ipython-input-18-542baaf3d12a>\u001b[0m in \u001b[0;36m<cell line: 2>\u001b[0;34m()\u001b[0m\n\u001b[1;32m      1\u001b[0m \u001b[0mmapping\u001b[0m\u001b[0;34m=\u001b[0m\u001b[0;34m{\u001b[0m\u001b[0;34m'Male'\u001b[0m\u001b[0;34m:\u001b[0m\u001b[0;36m1\u001b[0m\u001b[0;34m,\u001b[0m\u001b[0;34m'Female'\u001b[0m\u001b[0;34m:\u001b[0m\u001b[0;36m0\u001b[0m\u001b[0;34m}\u001b[0m\u001b[0;34m\u001b[0m\u001b[0;34m\u001b[0m\u001b[0m\n\u001b[0;32m----> 2\u001b[0;31m \u001b[0mx\u001b[0m\u001b[0;34m[\u001b[0m\u001b[0;34m'Gender'\u001b[0m\u001b[0;34m]\u001b[0m\u001b[0;34m=\u001b[0m\u001b[0mx\u001b[0m\u001b[0;34m[\u001b[0m\u001b[0;34m'Gender'\u001b[0m\u001b[0;34m]\u001b[0m\u001b[0;34m.\u001b[0m\u001b[0mmap\u001b[0m\u001b[0;34m(\u001b[0m\u001b[0mmapping\u001b[0m\u001b[0;34m)\u001b[0m\u001b[0;34m\u001b[0m\u001b[0;34m\u001b[0m\u001b[0m\n\u001b[0m\u001b[1;32m      3\u001b[0m \u001b[0mprint\u001b[0m\u001b[0;34m(\u001b[0m\u001b[0mx\u001b[0m\u001b[0;34m)\u001b[0m\u001b[0;34m\u001b[0m\u001b[0;34m\u001b[0m\u001b[0m\n",
            "\u001b[0;32m/usr/local/lib/python3.10/dist-packages/pandas/core/frame.py\u001b[0m in \u001b[0;36m__getitem__\u001b[0;34m(self, key)\u001b[0m\n\u001b[1;32m   3891\u001b[0m             \u001b[0;32mif\u001b[0m \u001b[0mself\u001b[0m\u001b[0;34m.\u001b[0m\u001b[0mcolumns\u001b[0m\u001b[0;34m.\u001b[0m\u001b[0mnlevels\u001b[0m \u001b[0;34m>\u001b[0m \u001b[0;36m1\u001b[0m\u001b[0;34m:\u001b[0m\u001b[0;34m\u001b[0m\u001b[0;34m\u001b[0m\u001b[0m\n\u001b[1;32m   3892\u001b[0m                 \u001b[0;32mreturn\u001b[0m \u001b[0mself\u001b[0m\u001b[0;34m.\u001b[0m\u001b[0m_getitem_multilevel\u001b[0m\u001b[0;34m(\u001b[0m\u001b[0mkey\u001b[0m\u001b[0;34m)\u001b[0m\u001b[0;34m\u001b[0m\u001b[0;34m\u001b[0m\u001b[0m\n\u001b[0;32m-> 3893\u001b[0;31m             \u001b[0mindexer\u001b[0m \u001b[0;34m=\u001b[0m \u001b[0mself\u001b[0m\u001b[0;34m.\u001b[0m\u001b[0mcolumns\u001b[0m\u001b[0;34m.\u001b[0m\u001b[0mget_loc\u001b[0m\u001b[0;34m(\u001b[0m\u001b[0mkey\u001b[0m\u001b[0;34m)\u001b[0m\u001b[0;34m\u001b[0m\u001b[0;34m\u001b[0m\u001b[0m\n\u001b[0m\u001b[1;32m   3894\u001b[0m             \u001b[0;32mif\u001b[0m \u001b[0mis_integer\u001b[0m\u001b[0;34m(\u001b[0m\u001b[0mindexer\u001b[0m\u001b[0;34m)\u001b[0m\u001b[0;34m:\u001b[0m\u001b[0;34m\u001b[0m\u001b[0;34m\u001b[0m\u001b[0m\n\u001b[1;32m   3895\u001b[0m                 \u001b[0mindexer\u001b[0m \u001b[0;34m=\u001b[0m \u001b[0;34m[\u001b[0m\u001b[0mindexer\u001b[0m\u001b[0;34m]\u001b[0m\u001b[0;34m\u001b[0m\u001b[0;34m\u001b[0m\u001b[0m\n",
            "\u001b[0;32m/usr/local/lib/python3.10/dist-packages/pandas/core/indexes/base.py\u001b[0m in \u001b[0;36mget_loc\u001b[0;34m(self, key)\u001b[0m\n\u001b[1;32m   3796\u001b[0m             ):\n\u001b[1;32m   3797\u001b[0m                 \u001b[0;32mraise\u001b[0m \u001b[0mInvalidIndexError\u001b[0m\u001b[0;34m(\u001b[0m\u001b[0mkey\u001b[0m\u001b[0;34m)\u001b[0m\u001b[0;34m\u001b[0m\u001b[0;34m\u001b[0m\u001b[0m\n\u001b[0;32m-> 3798\u001b[0;31m             \u001b[0;32mraise\u001b[0m \u001b[0mKeyError\u001b[0m\u001b[0;34m(\u001b[0m\u001b[0mkey\u001b[0m\u001b[0;34m)\u001b[0m \u001b[0;32mfrom\u001b[0m \u001b[0merr\u001b[0m\u001b[0;34m\u001b[0m\u001b[0;34m\u001b[0m\u001b[0m\n\u001b[0m\u001b[1;32m   3799\u001b[0m         \u001b[0;32mexcept\u001b[0m \u001b[0mTypeError\u001b[0m\u001b[0;34m:\u001b[0m\u001b[0;34m\u001b[0m\u001b[0;34m\u001b[0m\u001b[0m\n\u001b[1;32m   3800\u001b[0m             \u001b[0;31m# If we have a listlike key, _check_indexing_error will raise\u001b[0m\u001b[0;34m\u001b[0m\u001b[0;34m\u001b[0m\u001b[0m\n",
            "\u001b[0;31mKeyError\u001b[0m: 'Gender'"
          ]
        }
      ]
    },
    {
      "cell_type": "code",
      "source": [
        "# Normalize the data\n",
        "x = (x - x.min()) / (x.max() - x.min())\n",
        "# Fill null values (if any)\n",
        "x.fillna(0, inplace=True)\n",
        "print(\"Normalized Features:\", x)"
      ],
      "metadata": {
        "colab": {
          "base_uri": "https://localhost:8080/"
        },
        "id": "2ANS2Uadc62f",
        "outputId": "1243af3b-ba8d-42ce-9100-3ff4ce83ec55"
      },
      "execution_count": null,
      "outputs": [
        {
          "output_type": "stream",
          "name": "stdout",
          "text": [
            "Normalized Features:           Age  Gender  Polyuria  Polydipsia  sudden weight loss  weakness  \\\n",
            "0    0.324324     0.0       0.0         1.0                 0.0       1.0   \n",
            "1    0.567568     0.0       0.0         0.0                 0.0       1.0   \n",
            "2    0.337838     0.0       1.0         0.0                 0.0       1.0   \n",
            "3    0.391892     0.0       0.0         0.0                 1.0       1.0   \n",
            "4    0.594595     0.0       1.0         1.0                 1.0       1.0   \n",
            "..        ...     ...       ...         ...                 ...       ...   \n",
            "515  0.310811     1.0       1.0         1.0                 1.0       0.0   \n",
            "516  0.432432     1.0       1.0         1.0                 1.0       1.0   \n",
            "517  0.567568     1.0       1.0         1.0                 1.0       1.0   \n",
            "518  0.216216     1.0       0.0         0.0                 0.0       1.0   \n",
            "519  0.351351     0.0       0.0         0.0                 0.0       0.0   \n",
            "\n",
            "     Polyphagia  Genital thrush  visual blurring  Itching  Irritability  \\\n",
            "0           0.0             0.0              0.0      1.0           0.0   \n",
            "1           0.0             0.0              1.0      0.0           0.0   \n",
            "2           1.0             0.0              0.0      1.0           0.0   \n",
            "3           1.0             1.0              0.0      1.0           0.0   \n",
            "4           1.0             0.0              1.0      1.0           1.0   \n",
            "..          ...             ...              ...      ...           ...   \n",
            "515         1.0             0.0              0.0      1.0           0.0   \n",
            "516         1.0             0.0              0.0      1.0           1.0   \n",
            "517         1.0             0.0              1.0      0.0           0.0   \n",
            "518         0.0             0.0              1.0      1.0           0.0   \n",
            "519         0.0             0.0              0.0      0.0           0.0   \n",
            "\n",
            "     delayed healing  partial paresis  muscle stiffness  Alopecia  Obesity  \n",
            "0                1.0              0.0               1.0       1.0      1.0  \n",
            "1                0.0              1.0               0.0       1.0      0.0  \n",
            "2                1.0              0.0               1.0       1.0      0.0  \n",
            "3                1.0              0.0               0.0       0.0      0.0  \n",
            "4                1.0              1.0               1.0       1.0      1.0  \n",
            "..               ...              ...               ...       ...      ...  \n",
            "515              1.0              1.0               0.0       0.0      0.0  \n",
            "516              1.0              1.0               0.0       0.0      0.0  \n",
            "517              0.0              1.0               1.0       0.0      1.0  \n",
            "518              1.0              0.0               0.0       1.0      0.0  \n",
            "519              0.0              0.0               0.0       0.0      0.0  \n",
            "\n",
            "[520 rows x 16 columns]\n"
          ]
        }
      ]
    },
    {
      "cell_type": "code",
      "source": [
        "def initialize_parameters(n_features):\n",
        "  weights = np.zeros(n_features)\n",
        "  bias = 0\n",
        "  learning_rate = 0.01\n",
        "  return weights, bias, learning_rate\n",
        "n_features = x.shape[1]\n",
        "weights, bias, learning_rate = initialize_parameters(n_features)"
      ],
      "metadata": {
        "id": "hOlq5BY9dGcm"
      },
      "execution_count": null,
      "outputs": []
    },
    {
      "cell_type": "code",
      "source": [
        "def perceptron_train(X, y, weights, bias, learning_rate, epochs):\n",
        "  for epoch in range(epochs):\n",
        "    for i in range(len(y)):\n",
        "      linear_output = np.dot(x.iloc[i], weights) + bias\n",
        "      prediction = 1 if linear_output >= 0 else 0\n",
        "      error = y.iloc[i] - prediction\n",
        "      weights += learning_rate * error * x.iloc[i]\n",
        "    if epoch % 100 == 0:\n",
        "      print(f'Epoch {epoch}: Weights: {weights}, Bias: {bias}')\n",
        "    return weights, bias\n",
        "epochs = 1000\n",
        "weights, bias = perceptron_train(x, y, weights, bias, learning_rate, epochs)\n",
        "print(\"Trained Weights:\", weights)"
      ],
      "metadata": {
        "colab": {
          "base_uri": "https://localhost:8080/"
        },
        "id": "6iymL6lfdaqG",
        "outputId": "e50cd376-b1a3-4e8b-d0e0-19bcff2571c3"
      },
      "execution_count": null,
      "outputs": [
        {
          "output_type": "stream",
          "name": "stdout",
          "text": [
            "Epoch 0: Weights: Age                   0.026757\n",
            "Gender               -0.030000\n",
            "Polyuria             -0.040000\n",
            "Polydipsia           -0.030000\n",
            "sudden weight loss    0.000000\n",
            "weakness             -0.010000\n",
            "Polyphagia            0.020000\n",
            "Genital thrush        0.000000\n",
            "visual blurring       0.010000\n",
            "Itching               0.020000\n",
            "Irritability         -0.010000\n",
            "delayed healing       0.010000\n",
            "partial paresis       0.000000\n",
            "muscle stiffness      0.020000\n",
            "Alopecia              0.000000\n",
            "Obesity               0.010000\n",
            "Name: 0, dtype: float64, Bias: 0\n",
            "Trained Weights: Age                   0.026757\n",
            "Gender               -0.030000\n",
            "Polyuria             -0.040000\n",
            "Polydipsia           -0.030000\n",
            "sudden weight loss    0.000000\n",
            "weakness             -0.010000\n",
            "Polyphagia            0.020000\n",
            "Genital thrush        0.000000\n",
            "visual blurring       0.010000\n",
            "Itching               0.020000\n",
            "Irritability         -0.010000\n",
            "delayed healing       0.010000\n",
            "partial paresis       0.000000\n",
            "muscle stiffness      0.020000\n",
            "Alopecia              0.000000\n",
            "Obesity               0.010000\n",
            "Name: 0, dtype: float64\n"
          ]
        }
      ]
    },
    {
      "cell_type": "code",
      "source": [
        "def predict(x, weights, bias):\n",
        "  linear_output = np.dot(x, weights) + bias\n",
        "  return (linear_output >= 0).astype(int)\n",
        "predictions = predict(x, weights, bias)\n",
        "accuracy = np.mean(predictions == y) * 100\n",
        "print(\"\\nAccuracy: {:.2f}%\".format(accuracy))\n",
        "print(weights)"
      ],
      "metadata": {
        "colab": {
          "base_uri": "https://localhost:8080/"
        },
        "id": "cPtNkxC0eI1t",
        "outputId": "c5735513-2a01-4a31-da70-dcac3b579476"
      },
      "execution_count": null,
      "outputs": [
        {
          "output_type": "stream",
          "name": "stdout",
          "text": [
            "\n",
            "Accuracy: 81.54%\n",
            "Age                   0.026757\n",
            "Gender               -0.030000\n",
            "Polyuria             -0.040000\n",
            "Polydipsia           -0.030000\n",
            "sudden weight loss    0.000000\n",
            "weakness             -0.010000\n",
            "Polyphagia            0.020000\n",
            "Genital thrush        0.000000\n",
            "visual blurring       0.010000\n",
            "Itching               0.020000\n",
            "Irritability         -0.010000\n",
            "delayed healing       0.010000\n",
            "partial paresis       0.000000\n",
            "muscle stiffness      0.020000\n",
            "Alopecia              0.000000\n",
            "Obesity               0.010000\n",
            "Name: 0, dtype: float64\n"
          ]
        }
      ]
    }
  ]
}