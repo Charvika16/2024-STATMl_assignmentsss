{
  "nbformat": 4,
  "nbformat_minor": 0,
  "metadata": {
    "colab": {
      "provenance": [],
      "authorship_tag": "ABX9TyPTMIYvihiJ9y+kiqEExhjT",
      "include_colab_link": true
    },
    "kernelspec": {
      "name": "python3",
      "display_name": "Python 3"
    },
    "language_info": {
      "name": "python"
    }
  },
  "cells": [
    {
      "cell_type": "markdown",
      "metadata": {
        "id": "view-in-github",
        "colab_type": "text"
      },
      "source": [
        "<a href=\"https://colab.research.google.com/github/Charvika16/2024-STATMl_assignmentsss/blob/main/2303A52448(sml_11).ipynb\" target=\"_parent\"><img src=\"https://colab.research.google.com/assets/colab-badge.svg\" alt=\"Open In Colab\"/></a>"
      ]
    },
    {
      "cell_type": "markdown",
      "source": [
        "Question 1:\n",
        "\n",
        "a)\tRead the data with pandas and find features and target variables\n",
        "\n",
        "b)\tFind target variable\n",
        "\n",
        "c)\tTrain SVM, KNN, Logistic regression and find accuracy\n",
        "\n",
        "d)\tReduce the dimension with PCA\n",
        "\n",
        "e)\tTrain SVM, KNN, Logistic regression and find accuracy\n",
        "\n",
        "\n"
      ],
      "metadata": {
        "id": "70s21huJ8MqH"
      }
    },
    {
      "cell_type": "code",
      "source": [
        "import pandas as pd"
      ],
      "metadata": {
        "id": "DoFeuHjT8SiH"
      },
      "execution_count": 2,
      "outputs": []
    },
    {
      "cell_type": "code",
      "source": [
        "A=pd.read_csv('/content/archive (3).zip')\n",
        "print(A)"
      ],
      "metadata": {
        "colab": {
          "base_uri": "https://localhost:8080/"
        },
        "id": "ehdj47fN8XgC",
        "outputId": "8cb81674-6359-41cd-9b9e-915b6477de87"
      },
      "execution_count": 3,
      "outputs": [
        {
          "output_type": "stream",
          "name": "stdout",
          "text": [
            "     Age  Gender  Protein1  Protein2  Protein3  Protein4 Tumour_Stage  \\\n",
            "0     42  FEMALE  0.952560   2.15000  0.007972 -0.048340           II   \n",
            "1     54  FEMALE  0.000000   1.38020 -0.498030 -0.507320           II   \n",
            "2     63  FEMALE -0.523030   1.76400 -0.370190  0.010815           II   \n",
            "3     78  FEMALE -0.876180   0.12943 -0.370380  0.132190            I   \n",
            "4     42  FEMALE  0.226110   1.74910 -0.543970 -0.390210           II   \n",
            "..   ...     ...       ...       ...       ...       ...          ...   \n",
            "329   59  FEMALE  0.024598   1.40050  0.024751  0.280320           II   \n",
            "330   41  FEMALE  0.100120  -0.46547  0.472370 -0.523870            I   \n",
            "331   54  FEMALE  0.753820   1.64250 -0.332850  0.857860           II   \n",
            "332   74  FEMALE  0.972510   1.42680 -0.366570 -0.107820           II   \n",
            "333   66  FEMALE  0.286380   1.39980  0.318830  0.836050           II   \n",
            "\n",
            "                          Histology ER status PR status HER2 status  \\\n",
            "0     Infiltrating Ductal Carcinoma  Positive  Positive    Negative   \n",
            "1     Infiltrating Ductal Carcinoma  Positive  Positive    Negative   \n",
            "2     Infiltrating Ductal Carcinoma  Positive  Positive    Negative   \n",
            "3     Infiltrating Ductal Carcinoma  Positive  Positive    Negative   \n",
            "4     Infiltrating Ductal Carcinoma  Positive  Positive    Positive   \n",
            "..                              ...       ...       ...         ...   \n",
            "329   Infiltrating Ductal Carcinoma  Positive  Positive    Positive   \n",
            "330   Infiltrating Ductal Carcinoma  Positive  Positive    Positive   \n",
            "331   Infiltrating Ductal Carcinoma  Positive  Positive    Negative   \n",
            "332  Infiltrating Lobular Carcinoma  Positive  Positive    Negative   \n",
            "333   Infiltrating Ductal Carcinoma  Positive  Positive    Negative   \n",
            "\n",
            "                    Surgery_type Date_of_Surgery Date_of_Last_Visit  \\\n",
            "0                          Other       20-May-18          26-Aug-18   \n",
            "1                          Other       26-Apr-18          25-Jan-19   \n",
            "2                     Lumpectomy       24-Aug-18          08-Apr-20   \n",
            "3                          Other       16-Nov-18          28-Jul-20   \n",
            "4                     Lumpectomy       12-Dec-18          05-Jan-19   \n",
            "..                           ...             ...                ...   \n",
            "329                   Lumpectomy       15-Jan-19          27-Mar-20   \n",
            "330  Modified Radical Mastectomy       25-Jul-18          23-Apr-19   \n",
            "331            Simple Mastectomy       26-Mar-19          11-Oct-19   \n",
            "332                   Lumpectomy       26-Nov-18          05-Dec-18   \n",
            "333  Modified Radical Mastectomy       04-Feb-19          10-Aug-19   \n",
            "\n",
            "    Patient_Status  \n",
            "0            Alive  \n",
            "1             Dead  \n",
            "2            Alive  \n",
            "3            Alive  \n",
            "4            Alive  \n",
            "..             ...  \n",
            "329          Alive  \n",
            "330          Alive  \n",
            "331           Dead  \n",
            "332          Alive  \n",
            "333           Dead  \n",
            "\n",
            "[334 rows x 15 columns]\n"
          ]
        }
      ]
    },
    {
      "cell_type": "code",
      "source": [
        "y=A['Patient_Status']\n",
        "y=y.fillna(0)\n",
        "print(y)"
      ],
      "metadata": {
        "colab": {
          "base_uri": "https://localhost:8080/"
        },
        "id": "TPbRJCth8-00",
        "outputId": "3ed0c4fd-2699-47c7-9b21-c9f5885a5c1b"
      },
      "execution_count": 4,
      "outputs": [
        {
          "output_type": "stream",
          "name": "stdout",
          "text": [
            "0      Alive\n",
            "1       Dead\n",
            "2      Alive\n",
            "3      Alive\n",
            "4      Alive\n",
            "       ...  \n",
            "329    Alive\n",
            "330    Alive\n",
            "331     Dead\n",
            "332    Alive\n",
            "333     Dead\n",
            "Name: Patient_Status, Length: 334, dtype: object\n"
          ]
        }
      ]
    },
    {
      "cell_type": "code",
      "source": [
        "y = A['Patient_Status']\n",
        "x = A.drop(['Date_of_Surgery', 'Date_of_Last_Visit', 'Patient_Status'], axis=1)\n",
        "print(\"Target: \", y)\n",
        "print(\"Features: \", x)"
      ],
      "metadata": {
        "colab": {
          "base_uri": "https://localhost:8080/"
        },
        "id": "oTukDSAR9FYN",
        "outputId": "2b1801d9-427e-49bf-9bdc-dcf783af1537"
      },
      "execution_count": 5,
      "outputs": [
        {
          "output_type": "stream",
          "name": "stdout",
          "text": [
            "Target:  0      Alive\n",
            "1       Dead\n",
            "2      Alive\n",
            "3      Alive\n",
            "4      Alive\n",
            "       ...  \n",
            "329    Alive\n",
            "330    Alive\n",
            "331     Dead\n",
            "332    Alive\n",
            "333     Dead\n",
            "Name: Patient_Status, Length: 334, dtype: object\n",
            "Features:       Age  Gender  Protein1  Protein2  Protein3  Protein4 Tumour_Stage  \\\n",
            "0     42  FEMALE  0.952560   2.15000  0.007972 -0.048340           II   \n",
            "1     54  FEMALE  0.000000   1.38020 -0.498030 -0.507320           II   \n",
            "2     63  FEMALE -0.523030   1.76400 -0.370190  0.010815           II   \n",
            "3     78  FEMALE -0.876180   0.12943 -0.370380  0.132190            I   \n",
            "4     42  FEMALE  0.226110   1.74910 -0.543970 -0.390210           II   \n",
            "..   ...     ...       ...       ...       ...       ...          ...   \n",
            "329   59  FEMALE  0.024598   1.40050  0.024751  0.280320           II   \n",
            "330   41  FEMALE  0.100120  -0.46547  0.472370 -0.523870            I   \n",
            "331   54  FEMALE  0.753820   1.64250 -0.332850  0.857860           II   \n",
            "332   74  FEMALE  0.972510   1.42680 -0.366570 -0.107820           II   \n",
            "333   66  FEMALE  0.286380   1.39980  0.318830  0.836050           II   \n",
            "\n",
            "                          Histology ER status PR status HER2 status  \\\n",
            "0     Infiltrating Ductal Carcinoma  Positive  Positive    Negative   \n",
            "1     Infiltrating Ductal Carcinoma  Positive  Positive    Negative   \n",
            "2     Infiltrating Ductal Carcinoma  Positive  Positive    Negative   \n",
            "3     Infiltrating Ductal Carcinoma  Positive  Positive    Negative   \n",
            "4     Infiltrating Ductal Carcinoma  Positive  Positive    Positive   \n",
            "..                              ...       ...       ...         ...   \n",
            "329   Infiltrating Ductal Carcinoma  Positive  Positive    Positive   \n",
            "330   Infiltrating Ductal Carcinoma  Positive  Positive    Positive   \n",
            "331   Infiltrating Ductal Carcinoma  Positive  Positive    Negative   \n",
            "332  Infiltrating Lobular Carcinoma  Positive  Positive    Negative   \n",
            "333   Infiltrating Ductal Carcinoma  Positive  Positive    Negative   \n",
            "\n",
            "                    Surgery_type  \n",
            "0                          Other  \n",
            "1                          Other  \n",
            "2                     Lumpectomy  \n",
            "3                          Other  \n",
            "4                     Lumpectomy  \n",
            "..                           ...  \n",
            "329                   Lumpectomy  \n",
            "330  Modified Radical Mastectomy  \n",
            "331            Simple Mastectomy  \n",
            "332                   Lumpectomy  \n",
            "333  Modified Radical Mastectomy  \n",
            "\n",
            "[334 rows x 12 columns]\n"
          ]
        }
      ]
    },
    {
      "cell_type": "code",
      "source": [
        "mapping = {'Alive': 1, 'Dead': 0}\n",
        "y = y.map(mapping)\n",
        "print(y)"
      ],
      "metadata": {
        "colab": {
          "base_uri": "https://localhost:8080/"
        },
        "id": "F_gHkHKE9HVU",
        "outputId": "fb5f1c4a-4cb3-46a1-a9b5-fd39a1008812"
      },
      "execution_count": 6,
      "outputs": [
        {
          "output_type": "stream",
          "name": "stdout",
          "text": [
            "0      1.0\n",
            "1      0.0\n",
            "2      1.0\n",
            "3      1.0\n",
            "4      1.0\n",
            "      ... \n",
            "329    1.0\n",
            "330    1.0\n",
            "331    0.0\n",
            "332    1.0\n",
            "333    0.0\n",
            "Name: Patient_Status, Length: 334, dtype: float64\n"
          ]
        }
      ]
    },
    {
      "cell_type": "code",
      "source": [
        "x=x.replace('Positive',1)\n",
        "x=x.replace('Negative',0)\n",
        "print(x)"
      ],
      "metadata": {
        "colab": {
          "base_uri": "https://localhost:8080/"
        },
        "id": "Gws-G9UU9NjN",
        "outputId": "082feb73-d53f-44b6-cc78-03d529c7db31"
      },
      "execution_count": 7,
      "outputs": [
        {
          "output_type": "stream",
          "name": "stdout",
          "text": [
            "     Age  Gender  Protein1  Protein2  Protein3  Protein4 Tumour_Stage  \\\n",
            "0     42  FEMALE  0.952560   2.15000  0.007972 -0.048340           II   \n",
            "1     54  FEMALE  0.000000   1.38020 -0.498030 -0.507320           II   \n",
            "2     63  FEMALE -0.523030   1.76400 -0.370190  0.010815           II   \n",
            "3     78  FEMALE -0.876180   0.12943 -0.370380  0.132190            I   \n",
            "4     42  FEMALE  0.226110   1.74910 -0.543970 -0.390210           II   \n",
            "..   ...     ...       ...       ...       ...       ...          ...   \n",
            "329   59  FEMALE  0.024598   1.40050  0.024751  0.280320           II   \n",
            "330   41  FEMALE  0.100120  -0.46547  0.472370 -0.523870            I   \n",
            "331   54  FEMALE  0.753820   1.64250 -0.332850  0.857860           II   \n",
            "332   74  FEMALE  0.972510   1.42680 -0.366570 -0.107820           II   \n",
            "333   66  FEMALE  0.286380   1.39980  0.318830  0.836050           II   \n",
            "\n",
            "                          Histology  ER status  PR status  HER2 status  \\\n",
            "0     Infiltrating Ductal Carcinoma          1          1            0   \n",
            "1     Infiltrating Ductal Carcinoma          1          1            0   \n",
            "2     Infiltrating Ductal Carcinoma          1          1            0   \n",
            "3     Infiltrating Ductal Carcinoma          1          1            0   \n",
            "4     Infiltrating Ductal Carcinoma          1          1            1   \n",
            "..                              ...        ...        ...          ...   \n",
            "329   Infiltrating Ductal Carcinoma          1          1            1   \n",
            "330   Infiltrating Ductal Carcinoma          1          1            1   \n",
            "331   Infiltrating Ductal Carcinoma          1          1            0   \n",
            "332  Infiltrating Lobular Carcinoma          1          1            0   \n",
            "333   Infiltrating Ductal Carcinoma          1          1            0   \n",
            "\n",
            "                    Surgery_type  \n",
            "0                          Other  \n",
            "1                          Other  \n",
            "2                     Lumpectomy  \n",
            "3                          Other  \n",
            "4                     Lumpectomy  \n",
            "..                           ...  \n",
            "329                   Lumpectomy  \n",
            "330  Modified Radical Mastectomy  \n",
            "331            Simple Mastectomy  \n",
            "332                   Lumpectomy  \n",
            "333  Modified Radical Mastectomy  \n",
            "\n",
            "[334 rows x 12 columns]\n"
          ]
        },
        {
          "output_type": "stream",
          "name": "stderr",
          "text": [
            "<ipython-input-7-382a61a6f558>:1: FutureWarning: Downcasting behavior in `replace` is deprecated and will be removed in a future version. To retain the old behavior, explicitly call `result.infer_objects(copy=False)`. To opt-in to the future behavior, set `pd.set_option('future.no_silent_downcasting', True)`\n",
            "  x=x.replace('Positive',1)\n",
            "<ipython-input-7-382a61a6f558>:2: FutureWarning: Downcasting behavior in `replace` is deprecated and will be removed in a future version. To retain the old behavior, explicitly call `result.infer_objects(copy=False)`. To opt-in to the future behavior, set `pd.set_option('future.no_silent_downcasting', True)`\n",
            "  x=x.replace('Negative',0)\n"
          ]
        }
      ]
    },
    {
      "cell_type": "code",
      "source": [
        "x=x.replace('FEMALE',1)\n",
        "x=x.replace('MALE',0)\n",
        "print(x)"
      ],
      "metadata": {
        "colab": {
          "base_uri": "https://localhost:8080/"
        },
        "id": "Ak5c1Jl29RY6",
        "outputId": "6e26261d-529f-4678-a48c-f9a8acef63ff"
      },
      "execution_count": 8,
      "outputs": [
        {
          "output_type": "stream",
          "name": "stdout",
          "text": [
            "     Age  Gender  Protein1  Protein2  Protein3  Protein4 Tumour_Stage  \\\n",
            "0     42       1  0.952560   2.15000  0.007972 -0.048340           II   \n",
            "1     54       1  0.000000   1.38020 -0.498030 -0.507320           II   \n",
            "2     63       1 -0.523030   1.76400 -0.370190  0.010815           II   \n",
            "3     78       1 -0.876180   0.12943 -0.370380  0.132190            I   \n",
            "4     42       1  0.226110   1.74910 -0.543970 -0.390210           II   \n",
            "..   ...     ...       ...       ...       ...       ...          ...   \n",
            "329   59       1  0.024598   1.40050  0.024751  0.280320           II   \n",
            "330   41       1  0.100120  -0.46547  0.472370 -0.523870            I   \n",
            "331   54       1  0.753820   1.64250 -0.332850  0.857860           II   \n",
            "332   74       1  0.972510   1.42680 -0.366570 -0.107820           II   \n",
            "333   66       1  0.286380   1.39980  0.318830  0.836050           II   \n",
            "\n",
            "                          Histology  ER status  PR status  HER2 status  \\\n",
            "0     Infiltrating Ductal Carcinoma          1          1            0   \n",
            "1     Infiltrating Ductal Carcinoma          1          1            0   \n",
            "2     Infiltrating Ductal Carcinoma          1          1            0   \n",
            "3     Infiltrating Ductal Carcinoma          1          1            0   \n",
            "4     Infiltrating Ductal Carcinoma          1          1            1   \n",
            "..                              ...        ...        ...          ...   \n",
            "329   Infiltrating Ductal Carcinoma          1          1            1   \n",
            "330   Infiltrating Ductal Carcinoma          1          1            1   \n",
            "331   Infiltrating Ductal Carcinoma          1          1            0   \n",
            "332  Infiltrating Lobular Carcinoma          1          1            0   \n",
            "333   Infiltrating Ductal Carcinoma          1          1            0   \n",
            "\n",
            "                    Surgery_type  \n",
            "0                          Other  \n",
            "1                          Other  \n",
            "2                     Lumpectomy  \n",
            "3                          Other  \n",
            "4                     Lumpectomy  \n",
            "..                           ...  \n",
            "329                   Lumpectomy  \n",
            "330  Modified Radical Mastectomy  \n",
            "331            Simple Mastectomy  \n",
            "332                   Lumpectomy  \n",
            "333  Modified Radical Mastectomy  \n",
            "\n",
            "[334 rows x 12 columns]\n"
          ]
        },
        {
          "output_type": "stream",
          "name": "stderr",
          "text": [
            "<ipython-input-8-1ec089d38045>:2: FutureWarning: Downcasting behavior in `replace` is deprecated and will be removed in a future version. To retain the old behavior, explicitly call `result.infer_objects(copy=False)`. To opt-in to the future behavior, set `pd.set_option('future.no_silent_downcasting', True)`\n",
            "  x=x.replace('MALE',0)\n"
          ]
        }
      ]
    },
    {
      "cell_type": "code",
      "source": [
        "x=x.replace('I',1.0)\n",
        "x=x.replace('II',0.0)\n",
        "x=x.replace('III',2.0)\n",
        "print(x)"
      ],
      "metadata": {
        "colab": {
          "base_uri": "https://localhost:8080/"
        },
        "id": "94qxmsik9Uy3",
        "outputId": "2b3a3e17-d87c-4a07-a323-61fc0420fa34"
      },
      "execution_count": 9,
      "outputs": [
        {
          "output_type": "stream",
          "name": "stdout",
          "text": [
            "     Age  Gender  Protein1  Protein2  Protein3  Protein4  Tumour_Stage  \\\n",
            "0     42       1  0.952560   2.15000  0.007972 -0.048340           0.0   \n",
            "1     54       1  0.000000   1.38020 -0.498030 -0.507320           0.0   \n",
            "2     63       1 -0.523030   1.76400 -0.370190  0.010815           0.0   \n",
            "3     78       1 -0.876180   0.12943 -0.370380  0.132190           1.0   \n",
            "4     42       1  0.226110   1.74910 -0.543970 -0.390210           0.0   \n",
            "..   ...     ...       ...       ...       ...       ...           ...   \n",
            "329   59       1  0.024598   1.40050  0.024751  0.280320           0.0   \n",
            "330   41       1  0.100120  -0.46547  0.472370 -0.523870           1.0   \n",
            "331   54       1  0.753820   1.64250 -0.332850  0.857860           0.0   \n",
            "332   74       1  0.972510   1.42680 -0.366570 -0.107820           0.0   \n",
            "333   66       1  0.286380   1.39980  0.318830  0.836050           0.0   \n",
            "\n",
            "                          Histology  ER status  PR status  HER2 status  \\\n",
            "0     Infiltrating Ductal Carcinoma          1          1            0   \n",
            "1     Infiltrating Ductal Carcinoma          1          1            0   \n",
            "2     Infiltrating Ductal Carcinoma          1          1            0   \n",
            "3     Infiltrating Ductal Carcinoma          1          1            0   \n",
            "4     Infiltrating Ductal Carcinoma          1          1            1   \n",
            "..                              ...        ...        ...          ...   \n",
            "329   Infiltrating Ductal Carcinoma          1          1            1   \n",
            "330   Infiltrating Ductal Carcinoma          1          1            1   \n",
            "331   Infiltrating Ductal Carcinoma          1          1            0   \n",
            "332  Infiltrating Lobular Carcinoma          1          1            0   \n",
            "333   Infiltrating Ductal Carcinoma          1          1            0   \n",
            "\n",
            "                    Surgery_type  \n",
            "0                          Other  \n",
            "1                          Other  \n",
            "2                     Lumpectomy  \n",
            "3                          Other  \n",
            "4                     Lumpectomy  \n",
            "..                           ...  \n",
            "329                   Lumpectomy  \n",
            "330  Modified Radical Mastectomy  \n",
            "331            Simple Mastectomy  \n",
            "332                   Lumpectomy  \n",
            "333  Modified Radical Mastectomy  \n",
            "\n",
            "[334 rows x 12 columns]\n"
          ]
        },
        {
          "output_type": "stream",
          "name": "stderr",
          "text": [
            "<ipython-input-9-0df0e29a517b>:3: FutureWarning: Downcasting behavior in `replace` is deprecated and will be removed in a future version. To retain the old behavior, explicitly call `result.infer_objects(copy=False)`. To opt-in to the future behavior, set `pd.set_option('future.no_silent_downcasting', True)`\n",
            "  x=x.replace('III',2.0)\n"
          ]
        }
      ]
    },
    {
      "cell_type": "code",
      "source": [
        "x=x.replace('Infiltrating Ductal Carcinoma',0)\n",
        "x=x.replace('Infiltrating Lobular Carcinoma',1)\n",
        "x=x.replace('Mucinous Carcinoma',2)\n",
        "print(x)"
      ],
      "metadata": {
        "colab": {
          "base_uri": "https://localhost:8080/"
        },
        "id": "mnmkmMwz9W0S",
        "outputId": "b92388fb-72f7-4fbc-bf4f-2c93ba0db3fd"
      },
      "execution_count": 10,
      "outputs": [
        {
          "output_type": "stream",
          "name": "stdout",
          "text": [
            "     Age  Gender  Protein1  Protein2  Protein3  Protein4  Tumour_Stage  \\\n",
            "0     42       1  0.952560   2.15000  0.007972 -0.048340           0.0   \n",
            "1     54       1  0.000000   1.38020 -0.498030 -0.507320           0.0   \n",
            "2     63       1 -0.523030   1.76400 -0.370190  0.010815           0.0   \n",
            "3     78       1 -0.876180   0.12943 -0.370380  0.132190           1.0   \n",
            "4     42       1  0.226110   1.74910 -0.543970 -0.390210           0.0   \n",
            "..   ...     ...       ...       ...       ...       ...           ...   \n",
            "329   59       1  0.024598   1.40050  0.024751  0.280320           0.0   \n",
            "330   41       1  0.100120  -0.46547  0.472370 -0.523870           1.0   \n",
            "331   54       1  0.753820   1.64250 -0.332850  0.857860           0.0   \n",
            "332   74       1  0.972510   1.42680 -0.366570 -0.107820           0.0   \n",
            "333   66       1  0.286380   1.39980  0.318830  0.836050           0.0   \n",
            "\n",
            "     Histology  ER status  PR status  HER2 status                 Surgery_type  \n",
            "0            0          1          1            0                        Other  \n",
            "1            0          1          1            0                        Other  \n",
            "2            0          1          1            0                   Lumpectomy  \n",
            "3            0          1          1            0                        Other  \n",
            "4            0          1          1            1                   Lumpectomy  \n",
            "..         ...        ...        ...          ...                          ...  \n",
            "329          0          1          1            1                   Lumpectomy  \n",
            "330          0          1          1            1  Modified Radical Mastectomy  \n",
            "331          0          1          1            0            Simple Mastectomy  \n",
            "332          1          1          1            0                   Lumpectomy  \n",
            "333          0          1          1            0  Modified Radical Mastectomy  \n",
            "\n",
            "[334 rows x 12 columns]\n"
          ]
        },
        {
          "output_type": "stream",
          "name": "stderr",
          "text": [
            "<ipython-input-10-2e698e3420b8>:3: FutureWarning: Downcasting behavior in `replace` is deprecated and will be removed in a future version. To retain the old behavior, explicitly call `result.infer_objects(copy=False)`. To opt-in to the future behavior, set `pd.set_option('future.no_silent_downcasting', True)`\n",
            "  x=x.replace('Mucinous Carcinoma',2)\n"
          ]
        }
      ]
    },
    {
      "cell_type": "code",
      "source": [
        "x=x.replace('Other',0)\n",
        "x=x.replace('Lumpectomy',1)\n",
        "x=x.replace('Modified Radical Mastectomy',2)\n",
        "x=x.replace('Simple Mastectomy',3)\n",
        "print(x)"
      ],
      "metadata": {
        "colab": {
          "base_uri": "https://localhost:8080/"
        },
        "id": "wHiwtSXP9c2O",
        "outputId": "6bf4e10e-1082-4e37-cfa8-557858e69d14"
      },
      "execution_count": 11,
      "outputs": [
        {
          "output_type": "stream",
          "name": "stdout",
          "text": [
            "     Age  Gender  Protein1  Protein2  Protein3  Protein4  Tumour_Stage  \\\n",
            "0     42       1  0.952560   2.15000  0.007972 -0.048340           0.0   \n",
            "1     54       1  0.000000   1.38020 -0.498030 -0.507320           0.0   \n",
            "2     63       1 -0.523030   1.76400 -0.370190  0.010815           0.0   \n",
            "3     78       1 -0.876180   0.12943 -0.370380  0.132190           1.0   \n",
            "4     42       1  0.226110   1.74910 -0.543970 -0.390210           0.0   \n",
            "..   ...     ...       ...       ...       ...       ...           ...   \n",
            "329   59       1  0.024598   1.40050  0.024751  0.280320           0.0   \n",
            "330   41       1  0.100120  -0.46547  0.472370 -0.523870           1.0   \n",
            "331   54       1  0.753820   1.64250 -0.332850  0.857860           0.0   \n",
            "332   74       1  0.972510   1.42680 -0.366570 -0.107820           0.0   \n",
            "333   66       1  0.286380   1.39980  0.318830  0.836050           0.0   \n",
            "\n",
            "     Histology  ER status  PR status  HER2 status  Surgery_type  \n",
            "0            0          1          1            0             0  \n",
            "1            0          1          1            0             0  \n",
            "2            0          1          1            0             1  \n",
            "3            0          1          1            0             0  \n",
            "4            0          1          1            1             1  \n",
            "..         ...        ...        ...          ...           ...  \n",
            "329          0          1          1            1             1  \n",
            "330          0          1          1            1             2  \n",
            "331          0          1          1            0             3  \n",
            "332          1          1          1            0             1  \n",
            "333          0          1          1            0             2  \n",
            "\n",
            "[334 rows x 12 columns]\n"
          ]
        },
        {
          "output_type": "stream",
          "name": "stderr",
          "text": [
            "<ipython-input-11-3953fd5d6d31>:4: FutureWarning: Downcasting behavior in `replace` is deprecated and will be removed in a future version. To retain the old behavior, explicitly call `result.infer_objects(copy=False)`. To opt-in to the future behavior, set `pd.set_option('future.no_silent_downcasting', True)`\n",
            "  x=x.replace('Simple Mastectomy',3)\n"
          ]
        }
      ]
    },
    {
      "cell_type": "code",
      "source": [
        "x = (x - x.min()) / (x.max() - x.min())\n",
        "x.fillna(0, inplace=True)\n",
        "y.fillna(0, inplace=True)\n",
        "print(\"Normalized Features:\", x)\n",
        "print(\"Normalized Features:\", y)"
      ],
      "metadata": {
        "colab": {
          "base_uri": "https://localhost:8080/"
        },
        "id": "t1D2sqzH9e-o",
        "outputId": "2dbe2d79-d52d-4231-babb-706d49af9539"
      },
      "execution_count": 12,
      "outputs": [
        {
          "output_type": "stream",
          "name": "stdout",
          "text": [
            "Normalized Features:           Age  Gender  Protein1  Protein2  Protein3  Protein4  Tumour_Stage  \\\n",
            "0    0.213115     1.0  0.837072  0.714170  0.428018  0.540887           0.0   \n",
            "1    0.409836     1.0  0.594968  0.538454  0.295585  0.415325           0.0   \n",
            "2    0.557377     1.0  0.462033  0.626061  0.329044  0.557070           0.0   \n",
            "3    0.803279     1.0  0.372276  0.252951  0.328994  0.590275           0.5   \n",
            "4    0.213115     1.0  0.652436  0.622660  0.283561  0.447363           0.0   \n",
            "..        ...     ...       ...       ...       ...       ...           ...   \n",
            "329  0.491803     1.0  0.601219  0.543088  0.432410  0.630798           0.0   \n",
            "330  0.196721     1.0  0.620414  0.117158  0.549563  0.410798           0.5   \n",
            "331  0.409836     1.0  0.786560  0.598327  0.338816  0.788795           0.0   \n",
            "332  0.737705     1.0  0.842143  0.549091  0.329991  0.524616           0.0   \n",
            "333  0.606557     1.0  0.667754  0.542928  0.509378  0.782828           0.0   \n",
            "\n",
            "     Histology  ER status  PR status  HER2 status  Surgery_type  \n",
            "0          0.0        0.0        0.0          0.0      0.000000  \n",
            "1          0.0        0.0        0.0          0.0      0.000000  \n",
            "2          0.0        0.0        0.0          0.0      0.333333  \n",
            "3          0.0        0.0        0.0          0.0      0.000000  \n",
            "4          0.0        0.0        0.0          1.0      0.333333  \n",
            "..         ...        ...        ...          ...           ...  \n",
            "329        0.0        0.0        0.0          1.0      0.333333  \n",
            "330        0.0        0.0        0.0          1.0      0.666667  \n",
            "331        0.0        0.0        0.0          0.0      1.000000  \n",
            "332        0.5        0.0        0.0          0.0      0.333333  \n",
            "333        0.0        0.0        0.0          0.0      0.666667  \n",
            "\n",
            "[334 rows x 12 columns]\n",
            "Normalized Features: 0      1.0\n",
            "1      0.0\n",
            "2      1.0\n",
            "3      1.0\n",
            "4      1.0\n",
            "      ... \n",
            "329    1.0\n",
            "330    1.0\n",
            "331    0.0\n",
            "332    1.0\n",
            "333    0.0\n",
            "Name: Patient_Status, Length: 334, dtype: float64\n"
          ]
        }
      ]
    },
    {
      "cell_type": "code",
      "source": [
        "x = (x - x.min()) / (x.max() - x.min())\n",
        "y.fillna(0, inplace=True)\n",
        "x.fillna(0, inplace=True)\n",
        "print(x)\n",
        "print(y)"
      ],
      "metadata": {
        "colab": {
          "base_uri": "https://localhost:8080/"
        },
        "id": "SqSxC3Kj9k0W",
        "outputId": "cb63462a-595c-4924-b180-3c64db98ac22"
      },
      "execution_count": 13,
      "outputs": [
        {
          "output_type": "stream",
          "name": "stdout",
          "text": [
            "          Age  Gender  Protein1  Protein2  Protein3  Protein4  Tumour_Stage  \\\n",
            "0    0.213115     1.0  0.837072  0.714170  0.428018  0.540887           0.0   \n",
            "1    0.409836     1.0  0.594968  0.538454  0.295585  0.415325           0.0   \n",
            "2    0.557377     1.0  0.462033  0.626061  0.329044  0.557070           0.0   \n",
            "3    0.803279     1.0  0.372276  0.252951  0.328994  0.590275           0.5   \n",
            "4    0.213115     1.0  0.652436  0.622660  0.283561  0.447363           0.0   \n",
            "..        ...     ...       ...       ...       ...       ...           ...   \n",
            "329  0.491803     1.0  0.601219  0.543088  0.432410  0.630798           0.0   \n",
            "330  0.196721     1.0  0.620414  0.117158  0.549563  0.410798           0.5   \n",
            "331  0.409836     1.0  0.786560  0.598327  0.338816  0.788795           0.0   \n",
            "332  0.737705     1.0  0.842143  0.549091  0.329991  0.524616           0.0   \n",
            "333  0.606557     1.0  0.667754  0.542928  0.509378  0.782828           0.0   \n",
            "\n",
            "     Histology  ER status  PR status  HER2 status  Surgery_type  \n",
            "0          0.0        0.0        0.0          0.0      0.000000  \n",
            "1          0.0        0.0        0.0          0.0      0.000000  \n",
            "2          0.0        0.0        0.0          0.0      0.333333  \n",
            "3          0.0        0.0        0.0          0.0      0.000000  \n",
            "4          0.0        0.0        0.0          1.0      0.333333  \n",
            "..         ...        ...        ...          ...           ...  \n",
            "329        0.0        0.0        0.0          1.0      0.333333  \n",
            "330        0.0        0.0        0.0          1.0      0.666667  \n",
            "331        0.0        0.0        0.0          0.0      1.000000  \n",
            "332        0.5        0.0        0.0          0.0      0.333333  \n",
            "333        0.0        0.0        0.0          0.0      0.666667  \n",
            "\n",
            "[334 rows x 12 columns]\n",
            "0      1.0\n",
            "1      0.0\n",
            "2      1.0\n",
            "3      1.0\n",
            "4      1.0\n",
            "      ... \n",
            "329    1.0\n",
            "330    1.0\n",
            "331    0.0\n",
            "332    1.0\n",
            "333    0.0\n",
            "Name: Patient_Status, Length: 334, dtype: float64\n"
          ]
        }
      ]
    },
    {
      "cell_type": "code",
      "source": [
        "from sklearn.model_selection import train_test_split\n",
        "x_train,x_test,y_train,y_test=train_test_split(x,y,test_size=0.3,random_state=42)"
      ],
      "metadata": {
        "id": "0SrcNBzY9wVz"
      },
      "execution_count": 14,
      "outputs": []
    },
    {
      "cell_type": "code",
      "source": [
        "from sklearn.svm import SVC\n",
        "from sklearn.neighbors import KNeighborsClassifier\n",
        "from sklearn.linear_model import LogisticRegression\n",
        "from sklearn.metrics import accuracy_score"
      ],
      "metadata": {
        "id": "y4-qOEmSBe0j"
      },
      "execution_count": 15,
      "outputs": []
    },
    {
      "cell_type": "code",
      "source": [
        "svm_model = SVC()\n",
        "svm_model.fit(x_train, y_train)\n",
        "svm_pred = svm_model.predict(x_test)\n",
        "svm_accuracy = accuracy_score(y_test, svm_pred)\n",
        "print(f\"SVM Accuracy: {svm_accuracy}\")"
      ],
      "metadata": {
        "colab": {
          "base_uri": "https://localhost:8080/"
        },
        "id": "A1BL7kr3Bijm",
        "outputId": "da29b630-3412-4e36-882d-0ee5753fac06"
      },
      "execution_count": 16,
      "outputs": [
        {
          "output_type": "stream",
          "name": "stdout",
          "text": [
            "SVM Accuracy: 0.7821782178217822\n"
          ]
        }
      ]
    },
    {
      "cell_type": "code",
      "source": [
        "lr_model = LogisticRegression()\n",
        "lr_model.fit(x_train, y_train)\n",
        "lr_pred = lr_model.predict(x_test)\n",
        "lr_accuracy = accuracy_score(y_test, lr_pred)\n",
        "print(f\"Logistic Regression Accuracy: {lr_accuracy}\")"
      ],
      "metadata": {
        "colab": {
          "base_uri": "https://localhost:8080/"
        },
        "id": "AOGiXrrSBoT2",
        "outputId": "5a8bb2aa-1ff9-4b6e-a74c-3cf7663674cb"
      },
      "execution_count": 17,
      "outputs": [
        {
          "output_type": "stream",
          "name": "stdout",
          "text": [
            "Logistic Regression Accuracy: 0.7821782178217822\n"
          ]
        }
      ]
    },
    {
      "cell_type": "code",
      "source": [
        "knn_model = KNeighborsClassifier()\n",
        "knn_model.fit(x_train, y_train)\n",
        "knn_pred = knn_model.predict(x_test)\n",
        "knn_accuracy = accuracy_score(y_test, knn_pred)\n",
        "print(f\"KNN Accuracy: {knn_accuracy}\")"
      ],
      "metadata": {
        "colab": {
          "base_uri": "https://localhost:8080/"
        },
        "id": "ItSY2mXTBlQZ",
        "outputId": "88098336-f5b1-4e8e-fa79-7e0d2b3b3db8"
      },
      "execution_count": 18,
      "outputs": [
        {
          "output_type": "stream",
          "name": "stdout",
          "text": [
            "KNN Accuracy: 0.7425742574257426\n"
          ]
        }
      ]
    },
    {
      "cell_type": "code",
      "source": [
        "from sklearn.decomposition import PCA"
      ],
      "metadata": {
        "id": "JJFAEZpxLWE9"
      },
      "execution_count": 19,
      "outputs": []
    },
    {
      "cell_type": "code",
      "source": [
        "pca = PCA(n_components=0.95)\n",
        "x_pca = pca.fit_transform(x)"
      ],
      "metadata": {
        "id": "YiZcWk8JLemk"
      },
      "execution_count": 20,
      "outputs": []
    },
    {
      "cell_type": "code",
      "source": [
        "x_train_pca, x_test_pca, y_train, y_test = train_test_split(x_pca, y, test_size=0.3, random_state=42)"
      ],
      "metadata": {
        "id": "F3kDoxF1Liyh"
      },
      "execution_count": 21,
      "outputs": []
    },
    {
      "cell_type": "code",
      "source": [
        "svm_model_pca = SVC()\n",
        "svm_model_pca.fit(x_train_pca, y_train)\n",
        "svm_pred_pca = svm_model_pca.predict(x_test_pca)\n",
        "svm_accuracy_pca = accuracy_score(y_test, svm_pred_pca)\n",
        "print(f\"SVM Accuracy after PCA: {svm_accuracy_pca}\")"
      ],
      "metadata": {
        "colab": {
          "base_uri": "https://localhost:8080/"
        },
        "id": "EjaQZLXBLl0s",
        "outputId": "68b4f42a-af49-466b-f0e9-460cc6f10819"
      },
      "execution_count": 22,
      "outputs": [
        {
          "output_type": "stream",
          "name": "stdout",
          "text": [
            "SVM Accuracy after PCA: 0.7821782178217822\n"
          ]
        }
      ]
    },
    {
      "cell_type": "code",
      "source": [
        "lr_model_pca = LogisticRegression()\n",
        "lr_model_pca.fit(x_train_pca, y_train)\n",
        "lr_pred_pca = lr_model_pca.predict(x_test_pca)\n",
        "lr_accuracy_pca = accuracy_score(y_test, lr_pred_pca)\n",
        "print(f\"Logistic Regression Accuracy after PCA: {lr_accuracy_pca}\")"
      ],
      "metadata": {
        "colab": {
          "base_uri": "https://localhost:8080/"
        },
        "id": "4kXa0DuKLpjx",
        "outputId": "beca46d7-ce63-40a6-ce55-fc6432c09835"
      },
      "execution_count": 23,
      "outputs": [
        {
          "output_type": "stream",
          "name": "stdout",
          "text": [
            "Logistic Regression Accuracy after PCA: 0.7821782178217822\n"
          ]
        }
      ]
    },
    {
      "cell_type": "code",
      "source": [
        "knn_model_pca = KNeighborsClassifier()\n",
        "knn_model_pca.fit(x_train_pca, y_train)\n",
        "knn_pred_pca = knn_model_pca.predict(x_test_pca)\n",
        "knn_accuracy_pca = accuracy_score(y_test, knn_pred_pca)\n",
        "print(f\"KNN Accuracy after PCA: {knn_accuracy_pca}\")"
      ],
      "metadata": {
        "colab": {
          "base_uri": "https://localhost:8080/"
        },
        "id": "MO3e7WlsLsLy",
        "outputId": "e41ed6a7-2c11-433f-b6ff-3197de1e2489"
      },
      "execution_count": 24,
      "outputs": [
        {
          "output_type": "stream",
          "name": "stdout",
          "text": [
            "KNN Accuracy after PCA: 0.7326732673267327\n"
          ]
        }
      ]
    }
  ]
}